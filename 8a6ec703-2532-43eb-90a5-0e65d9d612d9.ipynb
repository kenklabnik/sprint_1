{
 "cells": [
  {
   "cell_type": "markdown",
   "id": "3669f6df",
   "metadata": {},
   "source": [
    "<div style=\"border-radius: 15px; border: 3px solid indigo; padding: 15px;\">\n",
    "<b> Reviewer's comment</b>\n",
    "    \n",
    "Hi, Ken! I am a reviewer on this project. \n",
    "\n",
    "Before we start, I want to pay your attention to the color marking:\n",
    "    \n",
    "<div class=\"alert alert-success\" style=\"border-radius: 15px; box-shadow: 4px 4px 4px; border: 1px solid \">\n",
    "<b> Reviewer's comment</b>\n",
    "    \n",
    "Great solutions and ideas that can and should be used in the future are in green comments.   \n",
    "</div>    \n",
    "    \n",
    "    \n",
    "<div class=\"alert alert-warning\" style=\"border-radius: 15px; box-shadow: 4px 4px 4px; border: 1px solid \">\n",
    "<b> Reviewer's comment</b>\n",
    "\n",
    "Yellow color indicates what should be optimized. This is not necessary, but it will be great if you make changes to this project.\n",
    "</div>      \n",
    "    \n",
    "    \n",
    "<div class=\"alert alert-danger\" style=\"border-radius: 15px; box-shadow: 4px 4px 4px; border: 1px solid \">\n",
    "<b> Reviewer's comment</b>\n",
    "\n",
    "Issues that need to be corrected to get right results are indicated in red comments. Note that the project cannot be accepted until these issues are resolved.\n",
    "</div>    \n",
    "\n",
    "<hr>\n",
    "    \n",
    "**Please, use some color other than those listed to highlight answers to my comments.**\n",
    "I would also ask you **not to change, move or delete my comments** so that it would be easier for me to navigate during the next review.\n",
    "    \n",
    "In addition, my comments are defined as headings. \n",
    "They can mess up the content, however, they are convenient, since you can immediately go to them. I will remove the headings from my comments in the next review. \n",
    "   \n",
    "    \n",
    "    \n",
    "<hr>\n",
    "    \n",
    "<font color='dodgerblue'>**A few words about the project:**</font> you did a great job, everything is clear and neat. However, there are some issues that need to be fixed. I've also  left some comments with the recommendations for improving the project. If you have any questions, feel free to ask me.\n",
    "    \n",
    "    \n",
    "I will wait for the project for a second review :)\n",
    "    \n",
    "    \n",
    "📌 Here are some tips and tricks that may help you with the Markdown cells:    \n",
    "<hr style=\"border-top: 3px solid purple; \"></hr>\n",
    "\n",
    "You can leave comments using this code inside a Markdown cell:\n",
    "    \n",
    "    \n",
    "    <div class=\"alert alert-info\">\n",
    "    <h2> Student's comment</h2>\n",
    "\n",
    "    Your text here. \n",
    "    </div>\n",
    "\n",
    "    \n",
    "    \n",
    "    <font color='red'> This code is used to change text color. </font>     \n",
    "\n",
    "<font color='red'> It will look like this. </font> \n",
    "    \n",
    "If you don't want your comments to be headings, replace **h2** with **b** or just add `<a class=\"tocSkip\">` after the phrase *Student's comment*.\n",
    "\n",
    "\n",
    "You can find out how to **format text** in a Markdown cell or how to **add links** [here](https://sqlbak.com/blog/jupyter-notebook-markdown-cheatsheet) и [and here](https://medium.com/analytics-vidhya/the-ultimate-markdown-guide-for-jupyter-notebook-d5e5abf728fd).\n",
    "\n",
    "\n",
    "\n",
    "</div>"
   ]
  },
  {
   "cell_type": "markdown",
   "id": "23ee1654",
   "metadata": {},
   "source": [
    "<div class=\"alert alert-info\">\n",
    "    <h2>Question about accessibility</h2>\n",
    "\n",
    "    Hey,\n",
    "    \n",
    "    I noticed the \"alert-success\" and \"alert-failure\" have a color scheme that's a possible accessiblity issue. As a colorblind user, those particular shades of green and red are difficult to distinguish from each other. \n",
    "    \n",
    "    Luckily in this case I can just look for those respective classes in the markdown, but it's still a little frustrating.\n",
    "</div>"
   ]
  },
  {
   "cell_type": "markdown",
   "id": "3d200abe",
   "metadata": {},
   "source": [
    "<div style=\"border-radius: 15px; border: 3px solid indigo; padding: 15px;\">\n",
    "<b> Reviewer's comment 2</b>\n",
    "    \n",
    "\n",
    "Hi! Thank you for letting me know that. I updated my comments and added specific symbols: \n",
    "    \n",
    "    \n",
    "<div class=\"alert alert-success\" style=\"border-radius: 15px; box-shadow: 4px 4px 4px; border: 1px solid \">\n",
    "<b> Reviewer's comment ✔️</b>\n",
    "    \n",
    "Great solutions and ideas that can and should be used in the future are in green comments.   \n",
    "</div>    \n",
    "    \n",
    "    \n",
    "<div class=\"alert alert-warning\" style=\"border-radius: 15px; box-shadow: 4px 4px 4px; border: 1px solid \">\n",
    "<b> Reviewer's comment ⚠️</b>\n",
    "\n",
    "Yellow color indicates what should be optimized. This is not necessary, but it will be great if you make changes to this project.\n",
    "</div>      \n",
    "    \n",
    "    \n",
    "<div class=\"alert alert-danger\" style=\"border-radius: 15px; box-shadow: 4px 4px 4px; border: 1px solid \">\n",
    "<b> Reviewer's comment ❌</b>\n",
    "\n",
    "Issues that need to be corrected to get right results are indicated in red comments. Note that the project cannot be accepted until these issues are resolved.\n",
    "</div>    \n",
    "\n",
    "\n",
    "\n",
    "\n",
    "I hope it helps. I've left new comments titled as **Reviewer's comment 2**. \n",
    "    \n",
    "    \n",
    "Your project has passed code review. Congratulations 😊\n",
    " \n",
    "    \n",
    "This is a good [article](https://www.kaggle.com/ramprakasism/pandas-75-exercises-with-solutions/notebook) with 75 pandas exercises and solutions. You can go along the exercises and compare your solution with the solution in the article.\n",
    "    \n",
    "    \n",
    "    \n",
    "Take care and good luck! 😊      \n",
    "</div>"
   ]
  },
  {
   "cell_type": "markdown",
   "id": "f85a80d2",
   "metadata": {},
   "source": [
    "## Basic Python - Project <a id='intro'></a>"
   ]
  },
  {
   "cell_type": "markdown",
   "id": "a1262df4",
   "metadata": {},
   "source": [
    "## Introduction <a id='intro'></a>\n",
    "In this project, you will work with data from the entertainment industry. You will study a dataset with records on movies and shows. The research will focus on the \"Golden Age\" of television, which began in 1999 with the release of *The Sopranos* and is still ongoing.\n",
    "\n",
    "The aim of this project is to investigate how the number of votes a title receives impacts its ratings. The assumption is that highly-rated shows (we will focus on TV shows, ignoring movies) released during the \"Golden Age\" of television also have the most votes.\n",
    "\n",
    "### Stages \n",
    "Data on movies and shows is stored in the `/datasets/movies_and_shows.csv` file. There is no information about the quality of the data, so you will need to explore it before doing the analysis.\n",
    "\n",
    "First, you'll evaluate the quality of the data and see whether its issues are significant. Then, during data preprocessing, you will try to account for the most critical problems.\n",
    " \n",
    "Your project will consist of three stages:\n",
    " 1. Data overview\n",
    " 2. Data preprocessing\n",
    " 3. Data analysis"
   ]
  },
  {
   "cell_type": "markdown",
   "id": "c1efe7ca",
   "metadata": {},
   "source": [
    "<div class=\"alert alert-success\" style=\"border-radius: 15px; box-shadow: 4px 4px 4px; border: 1px solid \">\n",
    "<h2> Reviewer's comment ✔️</h2>\n",
    "    \n",
    "There's an introduction, which is good. It is important to write an introductory part because it gives an idea about the content of the project. Don't forget about it in the next projects 😊\n",
    "    \n",
    "    \n",
    "</div>"
   ]
  },
  {
   "cell_type": "markdown",
   "id": "ac0593ac",
   "metadata": {},
   "source": [
    "## Stage 1. Data overview <a id='data_review'></a>\n",
    "\n",
    "Open and explore the data."
   ]
  },
  {
   "cell_type": "markdown",
   "id": "e86ed00e",
   "metadata": {},
   "source": [
    "You'll need `pandas`, so import it."
   ]
  },
  {
   "cell_type": "code",
   "execution_count": 1,
   "id": "1727d3f8",
   "metadata": {},
   "outputs": [],
   "source": [
    "# importing pandas\n",
    "import pandas as pd"
   ]
  },
  {
   "cell_type": "markdown",
   "id": "3ac8e654",
   "metadata": {},
   "source": [
    "<div class=\"alert alert-warning\" style=\"border-radius: 15px; box-shadow: 4px 4px 4px; border: 1px solid \">\n",
    "<b> Reviewer's comment ⚠️</b>\n",
    "    \n",
    "It's better to use **pd** as a reference to pandas. It is convenient as every programmer or analyst has to look for the information on the web or in a documentation. Sometimes you may search for a ready solution and use of a common style is a good idea here as it simplifies understanding someone's code and even copy-paste process. \n",
    "     \n",
    "</div>"
   ]
  },
  {
   "cell_type": "markdown",
   "id": "0b838ef6",
   "metadata": {},
   "source": [
    "<div class='alert alert-info'><b><font color='blue'>I'll swap that out, then. Also fixed it in the cell below, of course. :)</font></b></div>"
   ]
  },
  {
   "cell_type": "markdown",
   "id": "3d836457",
   "metadata": {},
   "source": [
    "<div class=\"alert alert-success\" style=\"border-radius: 15px; box-shadow: 4px 4px 4px; border: 1px solid \">\n",
    "<h2> Reviewer's comment 2 ✔️</h2>\n",
    "    \n",
    "Good :)    \n",
    "    \n",
    "</div>"
   ]
  },
  {
   "cell_type": "markdown",
   "id": "9821beeb",
   "metadata": {},
   "source": [
    "Read the `movies_and_shows.csv` file from the `datasets` folder and save it in the `df` variable:"
   ]
  },
  {
   "cell_type": "code",
   "execution_count": 2,
   "id": "fc5a1402",
   "metadata": {},
   "outputs": [],
   "source": [
    "# reading the files and storing them to df\n",
    "df = pd.read_csv(\"/datasets/movies_and_shows.csv\")"
   ]
  },
  {
   "cell_type": "markdown",
   "id": "1cd0a96d",
   "metadata": {},
   "source": [
    "Print the first 10 table rows:"
   ]
  },
  {
   "cell_type": "code",
   "execution_count": 3,
   "id": "acd92001",
   "metadata": {},
   "outputs": [
    {
     "data": {
      "text/html": [
       "<div>\n",
       "<style scoped>\n",
       "    .dataframe tbody tr th:only-of-type {\n",
       "        vertical-align: middle;\n",
       "    }\n",
       "\n",
       "    .dataframe tbody tr th {\n",
       "        vertical-align: top;\n",
       "    }\n",
       "\n",
       "    .dataframe thead th {\n",
       "        text-align: right;\n",
       "    }\n",
       "</style>\n",
       "<table border=\"1\" class=\"dataframe\">\n",
       "  <thead>\n",
       "    <tr style=\"text-align: right;\">\n",
       "      <th></th>\n",
       "      <th>name</th>\n",
       "      <th>Character</th>\n",
       "      <th>r0le</th>\n",
       "      <th>TITLE</th>\n",
       "      <th>Type</th>\n",
       "      <th>release Year</th>\n",
       "      <th>genres</th>\n",
       "      <th>imdb sc0re</th>\n",
       "      <th>imdb v0tes</th>\n",
       "    </tr>\n",
       "  </thead>\n",
       "  <tbody>\n",
       "    <tr>\n",
       "      <th>0</th>\n",
       "      <td>Robert De Niro</td>\n",
       "      <td>Travis Bickle</td>\n",
       "      <td>ACTOR</td>\n",
       "      <td>Taxi Driver</td>\n",
       "      <td>MOVIE</td>\n",
       "      <td>1976</td>\n",
       "      <td>['drama', 'crime']</td>\n",
       "      <td>8.2</td>\n",
       "      <td>808582.0</td>\n",
       "    </tr>\n",
       "    <tr>\n",
       "      <th>1</th>\n",
       "      <td>Jodie Foster</td>\n",
       "      <td>Iris Steensma</td>\n",
       "      <td>ACTOR</td>\n",
       "      <td>Taxi Driver</td>\n",
       "      <td>MOVIE</td>\n",
       "      <td>1976</td>\n",
       "      <td>['drama', 'crime']</td>\n",
       "      <td>8.2</td>\n",
       "      <td>808582.0</td>\n",
       "    </tr>\n",
       "    <tr>\n",
       "      <th>2</th>\n",
       "      <td>Albert Brooks</td>\n",
       "      <td>Tom</td>\n",
       "      <td>ACTOR</td>\n",
       "      <td>Taxi Driver</td>\n",
       "      <td>MOVIE</td>\n",
       "      <td>1976</td>\n",
       "      <td>['drama', 'crime']</td>\n",
       "      <td>8.2</td>\n",
       "      <td>808582.0</td>\n",
       "    </tr>\n",
       "    <tr>\n",
       "      <th>3</th>\n",
       "      <td>Harvey Keitel</td>\n",
       "      <td>Matthew 'Sport' Higgins</td>\n",
       "      <td>ACTOR</td>\n",
       "      <td>Taxi Driver</td>\n",
       "      <td>MOVIE</td>\n",
       "      <td>1976</td>\n",
       "      <td>['drama', 'crime']</td>\n",
       "      <td>8.2</td>\n",
       "      <td>808582.0</td>\n",
       "    </tr>\n",
       "    <tr>\n",
       "      <th>4</th>\n",
       "      <td>Cybill Shepherd</td>\n",
       "      <td>Betsy</td>\n",
       "      <td>ACTOR</td>\n",
       "      <td>Taxi Driver</td>\n",
       "      <td>MOVIE</td>\n",
       "      <td>1976</td>\n",
       "      <td>['drama', 'crime']</td>\n",
       "      <td>8.2</td>\n",
       "      <td>808582.0</td>\n",
       "    </tr>\n",
       "    <tr>\n",
       "      <th>5</th>\n",
       "      <td>Peter Boyle</td>\n",
       "      <td>Wizard</td>\n",
       "      <td>ACTOR</td>\n",
       "      <td>Taxi Driver</td>\n",
       "      <td>MOVIE</td>\n",
       "      <td>1976</td>\n",
       "      <td>['drama', 'crime']</td>\n",
       "      <td>8.2</td>\n",
       "      <td>808582.0</td>\n",
       "    </tr>\n",
       "    <tr>\n",
       "      <th>6</th>\n",
       "      <td>Leonard Harris</td>\n",
       "      <td>Senator Charles Palantine</td>\n",
       "      <td>ACTOR</td>\n",
       "      <td>Taxi Driver</td>\n",
       "      <td>MOVIE</td>\n",
       "      <td>1976</td>\n",
       "      <td>['drama', 'crime']</td>\n",
       "      <td>8.2</td>\n",
       "      <td>808582.0</td>\n",
       "    </tr>\n",
       "    <tr>\n",
       "      <th>7</th>\n",
       "      <td>Diahnne Abbott</td>\n",
       "      <td>Concession Girl</td>\n",
       "      <td>ACTOR</td>\n",
       "      <td>Taxi Driver</td>\n",
       "      <td>MOVIE</td>\n",
       "      <td>1976</td>\n",
       "      <td>['drama', 'crime']</td>\n",
       "      <td>8.2</td>\n",
       "      <td>808582.0</td>\n",
       "    </tr>\n",
       "    <tr>\n",
       "      <th>8</th>\n",
       "      <td>Gino Ardito</td>\n",
       "      <td>Policeman at Rally</td>\n",
       "      <td>ACTOR</td>\n",
       "      <td>Taxi Driver</td>\n",
       "      <td>MOVIE</td>\n",
       "      <td>1976</td>\n",
       "      <td>['drama', 'crime']</td>\n",
       "      <td>8.2</td>\n",
       "      <td>808582.0</td>\n",
       "    </tr>\n",
       "    <tr>\n",
       "      <th>9</th>\n",
       "      <td>Martin Scorsese</td>\n",
       "      <td>Passenger Watching Silhouette</td>\n",
       "      <td>ACTOR</td>\n",
       "      <td>Taxi Driver</td>\n",
       "      <td>MOVIE</td>\n",
       "      <td>1976</td>\n",
       "      <td>['drama', 'crime']</td>\n",
       "      <td>8.2</td>\n",
       "      <td>808582.0</td>\n",
       "    </tr>\n",
       "  </tbody>\n",
       "</table>\n",
       "</div>"
      ],
      "text/plain": [
       "              name                      Character   r0le        TITLE   Type  \\\n",
       "0   Robert De Niro                  Travis Bickle  ACTOR  Taxi Driver  MOVIE   \n",
       "1     Jodie Foster                  Iris Steensma  ACTOR  Taxi Driver  MOVIE   \n",
       "2    Albert Brooks                            Tom  ACTOR  Taxi Driver  MOVIE   \n",
       "3    Harvey Keitel        Matthew 'Sport' Higgins  ACTOR  Taxi Driver  MOVIE   \n",
       "4  Cybill Shepherd                          Betsy  ACTOR  Taxi Driver  MOVIE   \n",
       "5      Peter Boyle                         Wizard  ACTOR  Taxi Driver  MOVIE   \n",
       "6   Leonard Harris      Senator Charles Palantine  ACTOR  Taxi Driver  MOVIE   \n",
       "7   Diahnne Abbott                Concession Girl  ACTOR  Taxi Driver  MOVIE   \n",
       "8      Gino Ardito             Policeman at Rally  ACTOR  Taxi Driver  MOVIE   \n",
       "9  Martin Scorsese  Passenger Watching Silhouette  ACTOR  Taxi Driver  MOVIE   \n",
       "\n",
       "   release Year              genres  imdb sc0re  imdb v0tes  \n",
       "0          1976  ['drama', 'crime']         8.2    808582.0  \n",
       "1          1976  ['drama', 'crime']         8.2    808582.0  \n",
       "2          1976  ['drama', 'crime']         8.2    808582.0  \n",
       "3          1976  ['drama', 'crime']         8.2    808582.0  \n",
       "4          1976  ['drama', 'crime']         8.2    808582.0  \n",
       "5          1976  ['drama', 'crime']         8.2    808582.0  \n",
       "6          1976  ['drama', 'crime']         8.2    808582.0  \n",
       "7          1976  ['drama', 'crime']         8.2    808582.0  \n",
       "8          1976  ['drama', 'crime']         8.2    808582.0  \n",
       "9          1976  ['drama', 'crime']         8.2    808582.0  "
      ]
     },
     "execution_count": 3,
     "metadata": {},
     "output_type": "execute_result"
    }
   ],
   "source": [
    "# obtaining the first 10 rows from the df table\n",
    "# hint: you can use head() and tail() in Jupyter Notebook without wrapping them into print()\n",
    "df.head(10)"
   ]
  },
  {
   "cell_type": "markdown",
   "id": "e579aa91",
   "metadata": {},
   "source": [
    "Obtain the general information about the table with one command:"
   ]
  },
  {
   "cell_type": "code",
   "execution_count": 4,
   "id": "7bf66d2a",
   "metadata": {},
   "outputs": [
    {
     "name": "stdout",
     "output_type": "stream",
     "text": [
      "<class 'pandas.core.frame.DataFrame'>\n",
      "RangeIndex: 85579 entries, 0 to 85578\n",
      "Data columns (total 9 columns):\n",
      " #   Column        Non-Null Count  Dtype  \n",
      "---  ------        --------------  -----  \n",
      " 0      name       85579 non-null  object \n",
      " 1   Character     85579 non-null  object \n",
      " 2   r0le          85579 non-null  object \n",
      " 3   TITLE         85578 non-null  object \n",
      " 4     Type        85579 non-null  object \n",
      " 5   release Year  85579 non-null  int64  \n",
      " 6   genres        85579 non-null  object \n",
      " 7   imdb sc0re    80970 non-null  float64\n",
      " 8   imdb v0tes    80853 non-null  float64\n",
      "dtypes: float64(2), int64(1), object(6)\n",
      "memory usage: 5.9+ MB\n"
     ]
    }
   ],
   "source": [
    "# obtaining general information about the data in df\n",
    "df.info()"
   ]
  },
  {
   "cell_type": "markdown",
   "id": "a8fae8a9",
   "metadata": {},
   "source": [
    "<div class=\"alert alert-danger\" style=\"border-radius: 15px; box-shadow: 4px 4px 4px; border: 1px solid \">\n",
    "<b> Reviewer's comment ❌</b>\n",
    "    \n",
    " \n",
    "    \n",
    "Try to use the `info` method. `describe` is very useful but it gives us the statistics, not general info. \n",
    "    \n",
    "\n",
    "</div>\n",
    "<div class=\"alert alert-success\" style=\"border-radius: 15px; box-shadow: 4px 4px 4px; border: 1px solid \">\n",
    "<h2> Reviewer's comment 2 ✔️</h2>\n",
    "    \n",
    "Correct!     \n",
    "</div>"
   ]
  },
  {
   "cell_type": "markdown",
   "id": "ab14def2",
   "metadata": {},
   "source": [
    "<div class='alert alert-info'><b><font color='blue'>I misunderstood what was asked for; fixed.</font></b></div>"
   ]
  },
  {
   "cell_type": "markdown",
   "id": "e91f62a7",
   "metadata": {},
   "source": [
    "The table contains nine columns. The majority store the same data type: object. The only exceptions are `'release Year'` (int64 type), `'imdb sc0re'` (float64 type) and `'imdb v0tes'` (float64 type). Scores and votes will be used in our analysis, so it's important to verify that they are present in the dataframe in the appropriate numeric format. Three columns (`'TITLE'`, `'imdb sc0re'` and `'imdb v0tes'`) have missing values.\n",
    "\n",
    "According to the documentation:\n",
    "- `'name'` — actor/director's name and last name\n",
    "- `'Character'` — character played (for actors)\n",
    "- `'r0le '` — the person's contribution to the title (it can be in the capacity of either actor or director)\n",
    "- `'TITLE '` — title of the movie (show)\n",
    "- `'  Type'` — show or movie\n",
    "- `'release Year'` — year when movie (show) was released\n",
    "- `'genres'` — list of genres under which the movie (show) falls\n",
    "- `'imdb sc0re'` — score on IMDb\n",
    "- `'imdb v0tes'` — votes on IMDb\n",
    "\n",
    "We can see three issues with the column names:\n",
    "1. Some names are uppercase, while others are lowercase.\n",
    "2. There are names containing whitespace.\n",
    "3. A few column names have digit '0' instead of letter 'o'. \n"
   ]
  },
  {
   "cell_type": "markdown",
   "id": "4355de7b",
   "metadata": {},
   "source": [
    "### Conclusions <a id='data_review_conclusions'></a> \n",
    "\n",
    "Each row in the table stores data about a movie or show. The columns can be divided into two categories: the first is about the roles held by different people who worked on the movie or show (role, name of the actor or director, and character if the row is about an actor); the second category is information about the movie or show itself (title, release year, genre, imdb figures).\n",
    "\n",
    "It's clear that there is sufficient data to do the analysis and evaluate our assumption. However, to move forward, we need to preprocess the data."
   ]
  },
  {
   "cell_type": "markdown",
   "id": "c5dc9111",
   "metadata": {},
   "source": [
    "## Stage 2. Data preprocessing <a id='data_preprocessing'></a>\n",
    "Correct the formatting in the column headers and deal with the missing values. Then, check whether there are duplicates in the data."
   ]
  },
  {
   "cell_type": "code",
   "execution_count": 5,
   "id": "9c850d13",
   "metadata": {},
   "outputs": [
    {
     "data": {
      "text/plain": [
       "Index(['   name', 'Character', 'r0le', 'TITLE', '  Type', 'release Year',\n",
       "       'genres', 'imdb sc0re', 'imdb v0tes'],\n",
       "      dtype='object')"
      ]
     },
     "execution_count": 5,
     "metadata": {},
     "output_type": "execute_result"
    }
   ],
   "source": [
    "# the list of column names in the df table\n",
    "df.columns"
   ]
  },
  {
   "cell_type": "markdown",
   "id": "5f966df9",
   "metadata": {},
   "source": [
    "Change the column names according to the rules of good style:\n",
    "* If the name has several words, use snake_case\n",
    "* All characters must be lowercase\n",
    "* Remove whitespace\n",
    "* Replace zero with letter 'o'"
   ]
  },
  {
   "cell_type": "code",
   "execution_count": 6,
   "id": "23a1dc11",
   "metadata": {},
   "outputs": [],
   "source": [
    "# renaming columns\n",
    "fixed_columns = list(df.columns)\n",
    "for i in range(len(fixed_columns)):\n",
    "    fixed_columns[i] = fixed_columns[i].strip().lower().replace(\" \", \"_\").replace(\"0\", \"o\")\n",
    "\n",
    "# zip() iterates over multiple iterables and creates tuples; convenient for dict()\n",
    "new_columns = dict(zip(list(df.columns), fixed_columns))\n",
    "df = df.rename(columns=new_columns)"
   ]
  },
  {
   "cell_type": "markdown",
   "id": "3c79c2d6",
   "metadata": {},
   "source": [
    "<div class=\"alert alert-success\" style=\"border-radius: 15px; box-shadow: 4px 4px 4px; border: 1px solid \">\n",
    "<h2> Reviewer's comment ✔️</h2>\n",
    "    \n",
    "Nice code! However, you do not need to iterate over the dataframe.      \n",
    "</div>"
   ]
  },
  {
   "cell_type": "markdown",
   "id": "04de92fa",
   "metadata": {},
   "source": [
    "<div class='alert alert-info'><b><font color='blue'>Thank you! Might I ask what the intended method was for this? A method like this seemed cleaner than just doing them individually, right?</font></b></div>"
   ]
  },
  {
   "cell_type": "markdown",
   "id": "b46e0610",
   "metadata": {},
   "source": [
    "<div class=\"alert alert-success\" style=\"border-radius: 15px; box-shadow: 4px 4px 4px; border: 1px solid \">\n",
    "<h2> Reviewer's comment 2 ✔️</h2>\n",
    "    \n",
    "Actually you are right. It is not a problem to have a small loop that iterates over the list of several names. You are 100% correct here. I thought about applying a function, but your approach is very good. \n",
    "    \n",
    "</div>"
   ]
  },
  {
   "cell_type": "markdown",
   "id": "464fbd04",
   "metadata": {},
   "source": [
    "Check the result. Print the names of the columns once more:"
   ]
  },
  {
   "cell_type": "code",
   "execution_count": 7,
   "id": "0eb6527f",
   "metadata": {},
   "outputs": [
    {
     "data": {
      "text/plain": [
       "Index(['name', 'character', 'role', 'title', 'type', 'release_year', 'genres',\n",
       "       'imdb_score', 'imdb_votes'],\n",
       "      dtype='object')"
      ]
     },
     "execution_count": 7,
     "metadata": {},
     "output_type": "execute_result"
    }
   ],
   "source": [
    "# checking result: the list of column names\n",
    "df.columns"
   ]
  },
  {
   "cell_type": "markdown",
   "id": "14d9c319",
   "metadata": {},
   "source": [
    "### Missing values <a id='missing_values'></a>\n",
    "First, find the number of missing values in the table. To do so, combine two `pandas` methods:"
   ]
  },
  {
   "cell_type": "code",
   "execution_count": 8,
   "id": "21c427f2",
   "metadata": {},
   "outputs": [
    {
     "data": {
      "text/plain": [
       "name               0\n",
       "character          0\n",
       "role               0\n",
       "title              1\n",
       "type               0\n",
       "release_year       0\n",
       "genres             0\n",
       "imdb_score      4609\n",
       "imdb_votes      4726\n",
       "dtype: int64"
      ]
     },
     "execution_count": 8,
     "metadata": {},
     "output_type": "execute_result"
    }
   ],
   "source": [
    "# calculating missing values\n",
    "df.isna().sum()"
   ]
  },
  {
   "cell_type": "markdown",
   "id": "c8272df3",
   "metadata": {},
   "source": [
    "Not all missing values affect the research: the single missing value in `'title'` is not critical. The missing values in columns `'imdb_score'` and `'imdb_votes'` represent around 6% of all records (4,609 and 4,726, respectively, of the total 85,579). This could potentially affect our research. To avoid this issue, we will drop rows with missing values in the `'imdb_score'` and `'imdb_votes'` columns."
   ]
  },
  {
   "cell_type": "code",
   "execution_count": 9,
   "id": "599d5550",
   "metadata": {},
   "outputs": [],
   "source": [
    "# dropping rows where columns with title, scores and votes have missing values\n",
    "df = df.drop(df[df['imdb_score'].isna()].index)\n",
    "df = df.drop(df[df['imdb_votes'].isna()].index)"
   ]
  },
  {
   "cell_type": "markdown",
   "id": "2156887f",
   "metadata": {},
   "source": [
    "Make sure the table doesn't contain any more missing values. Count the missing values again."
   ]
  },
  {
   "cell_type": "code",
   "execution_count": 10,
   "id": "55c0b0ce",
   "metadata": {},
   "outputs": [
    {
     "data": {
      "text/plain": [
       "name            0\n",
       "character       0\n",
       "role            0\n",
       "title           0\n",
       "type            0\n",
       "release_year    0\n",
       "genres          0\n",
       "imdb_score      0\n",
       "imdb_votes      0\n",
       "dtype: int64"
      ]
     },
     "execution_count": 10,
     "metadata": {},
     "output_type": "execute_result"
    }
   ],
   "source": [
    "# counting missing values\n",
    "df.isna().sum()"
   ]
  },
  {
   "cell_type": "markdown",
   "id": "0fb1d268",
   "metadata": {},
   "source": [
    "<div class=\"alert alert-success\" style=\"border-radius: 15px; box-shadow: 4px 4px 4px; border: 1px solid \">\n",
    "<h2> Reviewer's comment ✔️</h2>\n",
    "     \n",
    "Good.      \n",
    "</div>"
   ]
  },
  {
   "cell_type": "markdown",
   "id": "a7dc7aa0",
   "metadata": {},
   "source": [
    "### Duplicates <a id='duplicates'></a>\n",
    "Find the number of duplicate rows in the table using one command:"
   ]
  },
  {
   "cell_type": "code",
   "execution_count": 11,
   "id": "9227df01",
   "metadata": {},
   "outputs": [
    {
     "data": {
      "text/plain": [
       "6994"
      ]
     },
     "execution_count": 11,
     "metadata": {},
     "output_type": "execute_result"
    }
   ],
   "source": [
    "# counting duplicate rows\n",
    "df.duplicated().sum()"
   ]
  },
  {
   "cell_type": "markdown",
   "id": "5f6eb0fc",
   "metadata": {},
   "source": [
    "Review the duplicate rows to determine if removing them would distort our dataset."
   ]
  },
  {
   "cell_type": "code",
   "execution_count": 12,
   "id": "bcf32fcb",
   "metadata": {},
   "outputs": [
    {
     "data": {
      "text/html": [
       "<div>\n",
       "<style scoped>\n",
       "    .dataframe tbody tr th:only-of-type {\n",
       "        vertical-align: middle;\n",
       "    }\n",
       "\n",
       "    .dataframe tbody tr th {\n",
       "        vertical-align: top;\n",
       "    }\n",
       "\n",
       "    .dataframe thead th {\n",
       "        text-align: right;\n",
       "    }\n",
       "</style>\n",
       "<table border=\"1\" class=\"dataframe\">\n",
       "  <thead>\n",
       "    <tr style=\"text-align: right;\">\n",
       "      <th></th>\n",
       "      <th>name</th>\n",
       "      <th>character</th>\n",
       "      <th>role</th>\n",
       "      <th>title</th>\n",
       "      <th>type</th>\n",
       "      <th>release_year</th>\n",
       "      <th>genres</th>\n",
       "      <th>imdb_score</th>\n",
       "      <th>imdb_votes</th>\n",
       "    </tr>\n",
       "  </thead>\n",
       "  <tbody>\n",
       "    <tr>\n",
       "      <th>85569</th>\n",
       "      <td>Jessica Cediel</td>\n",
       "      <td>Liliana Navarro</td>\n",
       "      <td>ACTOR</td>\n",
       "      <td>Lokillo</td>\n",
       "      <td>MOVIE</td>\n",
       "      <td>2021</td>\n",
       "      <td>['comedy']</td>\n",
       "      <td>3.8</td>\n",
       "      <td>68.0</td>\n",
       "    </tr>\n",
       "    <tr>\n",
       "      <th>85570</th>\n",
       "      <td>Javier Gardeaz?­bal</td>\n",
       "      <td>Agust??n \"Peluca\" Ort??z</td>\n",
       "      <td>ACTOR</td>\n",
       "      <td>Lokillo</td>\n",
       "      <td>MOVIE</td>\n",
       "      <td>2021</td>\n",
       "      <td>['comedy']</td>\n",
       "      <td>3.8</td>\n",
       "      <td>68.0</td>\n",
       "    </tr>\n",
       "    <tr>\n",
       "      <th>85571</th>\n",
       "      <td>Carla Giraldo</td>\n",
       "      <td>Valery Reinoso</td>\n",
       "      <td>ACTOR</td>\n",
       "      <td>Lokillo</td>\n",
       "      <td>MOVIE</td>\n",
       "      <td>2021</td>\n",
       "      <td>['comedy']</td>\n",
       "      <td>3.8</td>\n",
       "      <td>68.0</td>\n",
       "    </tr>\n",
       "    <tr>\n",
       "      <th>85572</th>\n",
       "      <td>Ana Mar??a S?­nchez</td>\n",
       "      <td>Lourdes</td>\n",
       "      <td>ACTOR</td>\n",
       "      <td>Lokillo</td>\n",
       "      <td>MOVIE</td>\n",
       "      <td>2021</td>\n",
       "      <td>['comedy']</td>\n",
       "      <td>3.8</td>\n",
       "      <td>68.0</td>\n",
       "    </tr>\n",
       "    <tr>\n",
       "      <th>85577</th>\n",
       "      <td>Isabel Gaona</td>\n",
       "      <td>Cacica</td>\n",
       "      <td>ACTOR</td>\n",
       "      <td>Lokillo</td>\n",
       "      <td>MOVIE</td>\n",
       "      <td>2021</td>\n",
       "      <td>['comedy']</td>\n",
       "      <td>3.8</td>\n",
       "      <td>68.0</td>\n",
       "    </tr>\n",
       "  </tbody>\n",
       "</table>\n",
       "</div>"
      ],
      "text/plain": [
       "                      name                 character   role    title   type  \\\n",
       "85569       Jessica Cediel           Liliana Navarro  ACTOR  Lokillo  MOVIE   \n",
       "85570  Javier Gardeaz?­bal  Agust??n \"Peluca\" Ort??z  ACTOR  Lokillo  MOVIE   \n",
       "85571        Carla Giraldo            Valery Reinoso  ACTOR  Lokillo  MOVIE   \n",
       "85572  Ana Mar??a S?­nchez                   Lourdes  ACTOR  Lokillo  MOVIE   \n",
       "85577         Isabel Gaona                    Cacica  ACTOR  Lokillo  MOVIE   \n",
       "\n",
       "       release_year      genres  imdb_score  imdb_votes  \n",
       "85569          2021  ['comedy']         3.8        68.0  \n",
       "85570          2021  ['comedy']         3.8        68.0  \n",
       "85571          2021  ['comedy']         3.8        68.0  \n",
       "85572          2021  ['comedy']         3.8        68.0  \n",
       "85577          2021  ['comedy']         3.8        68.0  "
      ]
     },
     "execution_count": 12,
     "metadata": {},
     "output_type": "execute_result"
    }
   ],
   "source": [
    "# Produce table with duplicates (with original rows included) and review last 5 rows\n",
    "df_duplicates = df[df.duplicated(keep=False)]\n",
    "df_duplicates.tail()\n",
    "# The description in the next cell says \"there are two clear duplicates\" but I don't see them? I trust pandas though"
   ]
  },
  {
   "cell_type": "markdown",
   "id": "a1ed6640",
   "metadata": {},
   "source": [
    "There are two clear duplicates in the printed rows. We can safely remove them.\n",
    "Call the `pandas` method for getting rid of duplicate rows:"
   ]
  },
  {
   "cell_type": "code",
   "execution_count": 13,
   "id": "724d5bc8",
   "metadata": {},
   "outputs": [],
   "source": [
    "# removing duplicate rows\n",
    "df = df.drop_duplicates().reset_index(drop=True)"
   ]
  },
  {
   "cell_type": "markdown",
   "id": "0d543e23",
   "metadata": {},
   "source": [
    "<div class=\"alert alert-success\" style=\"border-radius: 15px; box-shadow: 4px 4px 4px; border: 1px solid \">\n",
    "<h2> Reviewer's comment ✔️</h2>\n",
    "    \n",
    "Correct!      \n",
    "</div>"
   ]
  },
  {
   "cell_type": "markdown",
   "id": "fc8c77ba",
   "metadata": {},
   "source": [
    "Check for duplicate rows once more to make sure you have removed all of them:"
   ]
  },
  {
   "cell_type": "code",
   "execution_count": 14,
   "id": "8091a9bc",
   "metadata": {},
   "outputs": [
    {
     "data": {
      "text/plain": [
       "0"
      ]
     },
     "execution_count": 14,
     "metadata": {},
     "output_type": "execute_result"
    }
   ],
   "source": [
    "# checking for duplicates\n",
    "df.duplicated().sum()"
   ]
  },
  {
   "cell_type": "markdown",
   "id": "1d802b07",
   "metadata": {},
   "source": [
    "Now get rid of implicit duplicates in the `'type'` column. For example, the string `'SHOW'` can be written in different ways. These kinds of errors will also affect the result."
   ]
  },
  {
   "cell_type": "markdown",
   "id": "d5f987ed",
   "metadata": {},
   "source": [
    "Print a list of unique `'type'` names, sorted in alphabetical order. To do so:\n",
    "* Retrieve the intended dataframe column \n",
    "* Apply a sorting method to it\n",
    "* For the sorted column, call the method that will return all unique column values"
   ]
  },
  {
   "cell_type": "code",
   "execution_count": 15,
   "id": "3d7b0ac5",
   "metadata": {},
   "outputs": [
    {
     "name": "stdout",
     "output_type": "stream",
     "text": [
      "['MOVIE', 'SHOW', 'movies', 'shows', 'the movie', 'tv', 'tv series', 'tv show', 'tv shows']\n"
     ]
    }
   ],
   "source": [
    "# viewing unique type names\n",
    "type_column = list(df['type'].sort_values().unique())\n",
    "\n",
    "print(list(type_column))"
   ]
  },
  {
   "cell_type": "markdown",
   "id": "a3d1830e",
   "metadata": {},
   "source": [
    "<div class=\"alert alert-success\" style=\"border-radius: 15px; box-shadow: 4px 4px 4px; border: 1px solid \">\n",
    "<h2> Reviewer's comment ✔️</h2>\n",
    "    \n",
    "Correct.     \n",
    "</div>\n",
    "<div class=\"alert alert-warning\" style=\"border-radius: 15px; box-shadow: 4px 4px 4px; border: 1px solid \">\n",
    "<h2> Reviewer's comment ⚠️</h2>\n",
    "    \n",
    "You do not need to create a new variable though.      \n",
    "</div>"
   ]
  },
  {
   "cell_type": "markdown",
   "id": "ac6e8b18",
   "metadata": {},
   "source": [
    "Look through the list to find implicit duplicates of `'show'` (`'movie'` duplicates will be ignored since the assumption is about shows). These could be names written incorrectly or alternative names of the same genre.\n",
    "\n",
    "You will see the following implicit duplicates:\n",
    "* `'shows'`\n",
    "* `'SHOW'`\n",
    "* `'tv show'`\n",
    "* `'tv shows'`\n",
    "* `'tv series'`\n",
    "* `'tv'`\n",
    "\n",
    "To get rid of them, declare the function `replace_wrong_show()` with two parameters: \n",
    "* `wrong_shows_list=` — the list of duplicates\n",
    "* `correct_show=` — the string with the correct value\n",
    "\n",
    "The function should correct the names in the `'type'` column from the `df` table (i.e., replace each value from the `wrong_shows_list` list with the value in `correct_show`)."
   ]
  },
  {
   "cell_type": "code",
   "execution_count": 16,
   "id": "bff944f9",
   "metadata": {},
   "outputs": [],
   "source": [
    "# function for replacing implicit duplicates\n",
    "# note that I struggled on this; in most languages, df would be out-of-scope and would need passed in as a parameter\n",
    "# since we're not doing def main() or anything, that's probably why?\n",
    "def replace_wrong_show(wrong_shows_list, correct_show=\"SHOW\"):\n",
    "    df['type'] = df['type'].replace(wrong_shows_list, correct_show)\n"
   ]
  },
  {
   "cell_type": "markdown",
   "id": "d02d13a6",
   "metadata": {},
   "source": [
    "Call `replace_wrong_show()` and pass it arguments so that it clears implicit duplicates and replaces them with `SHOW`:"
   ]
  },
  {
   "cell_type": "code",
   "execution_count": 17,
   "id": "a2217e53",
   "metadata": {},
   "outputs": [],
   "source": [
    "# removing implicit duplicates\n",
    "wrong_shows_list = ['shows', 'show', 'tv show', 'tv shows', 'tv series', 'tv']\n",
    "replace_wrong_show(wrong_shows_list, \"SHOW\")"
   ]
  },
  {
   "cell_type": "markdown",
   "id": "318b09f7",
   "metadata": {},
   "source": [
    "Make sure the duplicate names are removed. Print the list of unique values from the `'type'` column:"
   ]
  },
  {
   "cell_type": "code",
   "execution_count": 18,
   "id": "25d49d73",
   "metadata": {},
   "outputs": [
    {
     "name": "stdout",
     "output_type": "stream",
     "text": [
      "['MOVIE', 'SHOW', 'movies', 'the movie']\n"
     ]
    }
   ],
   "source": [
    "# viewing unique genre names\n",
    "type_column = list(df['type'].sort_values().unique())\n",
    "print(type_column)"
   ]
  },
  {
   "cell_type": "markdown",
   "id": "00fa0054",
   "metadata": {},
   "source": [
    "<div class=\"alert alert-success\" style=\"border-radius: 15px; box-shadow: 4px 4px 4px; border: 1px solid \">\n",
    "<h2> Reviewer's comment ✔️</h2>\n",
    "    \n",
    "Great. You wrote and  called a function that worked properly.\n",
    "\n",
    "In general, it can be performed without a function. To do this, we need a list and the same **replace** method. It will look like this:\n",
    "    \n",
    "    \n",
    "    wrong_names = ['shows', 'tv show', 'tv shows', 'tv series', 'tv']\n",
    "    correct_name = 'SHOW'  \n",
    "\n",
    "    df['type'] = df['type'].replace(wrong_genres, correct_genre)\n",
    "    \n",
    "    \n",
    "Or, which is the same:\n",
    "    \n",
    "    \n",
    "    df['type'] = df['type'].replace(['shows', 'tv show', 'tv shows', 'tv series', 'tv'], 'SHOW')\n",
    "</div>"
   ]
  },
  {
   "cell_type": "markdown",
   "id": "18b2049e",
   "metadata": {},
   "source": [
    "### Conclusions <a id='data_preprocessing_conclusions'></a>\n",
    "We detected three issues with the data:\n",
    "\n",
    "- Incorrect header styles\n",
    "- Missing values\n",
    "- Duplicate rows and implicit duplicates\n",
    "\n",
    "The headers have been cleaned up to make processing the table simpler.\n",
    "\n",
    "All rows with missing values have been removed. \n",
    "\n",
    "The absence of duplicates will make the results more precise and easier to understand.\n",
    "\n",
    "Now we can move on to our analysis of the prepared data."
   ]
  },
  {
   "cell_type": "markdown",
   "id": "1aa0f1b1",
   "metadata": {},
   "source": [
    "## Stage 3. Data analysis <a id='hypotheses'></a>"
   ]
  },
  {
   "cell_type": "markdown",
   "id": "f8fb6a0e",
   "metadata": {},
   "source": [
    "Based on the previous project stages, you can now define how the assumption will be checked. Calculate the average amount of votes for each score (this data is available in the `imdb_score` and `imdb_votes` columns), and then check how these averages relate to each other. If the averages for shows with the highest scores are bigger than those for shows with lower scores, the assumption appears to be true.\n",
    "\n",
    "Based on this, complete the following steps:\n",
    "\n",
    "- Filter the dataframe to only include shows released in 1999 or later.\n",
    "- Group scores into buckets by rounding the values of the appropriate column (a set of 1-10 integers will help us make the outcome of our calculations more evident without damaging the quality of our research).\n",
    "- Identify outliers among scores based on their number of votes, and exclude scores with few votes.\n",
    "- Calculate the average votes for each score and check whether the assumption matches the results."
   ]
  },
  {
   "cell_type": "markdown",
   "id": "0ea2cb51",
   "metadata": {},
   "source": [
    "To filter the dataframe and only include shows released in 1999 or later, you will take two steps. First, keep only titles published in 1999 or later in our dataframe. Then, filter the table to only contain shows (movies will be removed)."
   ]
  },
  {
   "cell_type": "code",
   "execution_count": 19,
   "id": "6a704aa1",
   "metadata": {},
   "outputs": [
    {
     "data": {
      "text/html": [
       "<div>\n",
       "<style scoped>\n",
       "    .dataframe tbody tr th:only-of-type {\n",
       "        vertical-align: middle;\n",
       "    }\n",
       "\n",
       "    .dataframe tbody tr th {\n",
       "        vertical-align: top;\n",
       "    }\n",
       "\n",
       "    .dataframe thead th {\n",
       "        text-align: right;\n",
       "    }\n",
       "</style>\n",
       "<table border=\"1\" class=\"dataframe\">\n",
       "  <thead>\n",
       "    <tr style=\"text-align: right;\">\n",
       "      <th></th>\n",
       "      <th>name</th>\n",
       "      <th>character</th>\n",
       "      <th>role</th>\n",
       "      <th>title</th>\n",
       "      <th>type</th>\n",
       "      <th>release_year</th>\n",
       "      <th>genres</th>\n",
       "      <th>imdb_score</th>\n",
       "      <th>imdb_votes</th>\n",
       "    </tr>\n",
       "  </thead>\n",
       "  <tbody>\n",
       "    <tr>\n",
       "      <th>1661</th>\n",
       "      <td>Jeff Probst</td>\n",
       "      <td>Himself - Host</td>\n",
       "      <td>ACTOR</td>\n",
       "      <td>Survivor</td>\n",
       "      <td>SHOW</td>\n",
       "      <td>2000</td>\n",
       "      <td>['reality']</td>\n",
       "      <td>7.4</td>\n",
       "      <td>24687.0</td>\n",
       "    </tr>\n",
       "    <tr>\n",
       "      <th>1952</th>\n",
       "      <td>Benicio del Toro</td>\n",
       "      <td>Franky Four Fingers</td>\n",
       "      <td>ACTOR</td>\n",
       "      <td>Snatch</td>\n",
       "      <td>MOVIE</td>\n",
       "      <td>2000</td>\n",
       "      <td>['crime', 'comedy']</td>\n",
       "      <td>8.3</td>\n",
       "      <td>841435.0</td>\n",
       "    </tr>\n",
       "    <tr>\n",
       "      <th>1953</th>\n",
       "      <td>Dennis Farina</td>\n",
       "      <td>Cousin Avi</td>\n",
       "      <td>ACTOR</td>\n",
       "      <td>Snatch</td>\n",
       "      <td>MOVIE</td>\n",
       "      <td>2000</td>\n",
       "      <td>['crime', 'comedy']</td>\n",
       "      <td>8.3</td>\n",
       "      <td>841435.0</td>\n",
       "    </tr>\n",
       "    <tr>\n",
       "      <th>1954</th>\n",
       "      <td>Vinnie Jones</td>\n",
       "      <td>Bullet Tooth Tony</td>\n",
       "      <td>ACTOR</td>\n",
       "      <td>Snatch</td>\n",
       "      <td>MOVIE</td>\n",
       "      <td>2000</td>\n",
       "      <td>['crime', 'comedy']</td>\n",
       "      <td>8.3</td>\n",
       "      <td>841435.0</td>\n",
       "    </tr>\n",
       "    <tr>\n",
       "      <th>1955</th>\n",
       "      <td>Brad Pitt</td>\n",
       "      <td>Mickey O'Neil</td>\n",
       "      <td>ACTOR</td>\n",
       "      <td>Snatch</td>\n",
       "      <td>MOVIE</td>\n",
       "      <td>2000</td>\n",
       "      <td>['crime', 'comedy']</td>\n",
       "      <td>8.3</td>\n",
       "      <td>841435.0</td>\n",
       "    </tr>\n",
       "    <tr>\n",
       "      <th>...</th>\n",
       "      <td>...</td>\n",
       "      <td>...</td>\n",
       "      <td>...</td>\n",
       "      <td>...</td>\n",
       "      <td>...</td>\n",
       "      <td>...</td>\n",
       "      <td>...</td>\n",
       "      <td>...</td>\n",
       "      <td>...</td>\n",
       "    </tr>\n",
       "    <tr>\n",
       "      <th>73854</th>\n",
       "      <td>A??da Morales</td>\n",
       "      <td>Maritza</td>\n",
       "      <td>ACTOR</td>\n",
       "      <td>Lokillo</td>\n",
       "      <td>the movie</td>\n",
       "      <td>2021</td>\n",
       "      <td>['comedy']</td>\n",
       "      <td>3.8</td>\n",
       "      <td>68.0</td>\n",
       "    </tr>\n",
       "    <tr>\n",
       "      <th>73855</th>\n",
       "      <td>Adelaida Buscato</td>\n",
       "      <td>Mar??a Paz</td>\n",
       "      <td>ACTOR</td>\n",
       "      <td>Lokillo</td>\n",
       "      <td>the movie</td>\n",
       "      <td>2021</td>\n",
       "      <td>['comedy']</td>\n",
       "      <td>3.8</td>\n",
       "      <td>68.0</td>\n",
       "    </tr>\n",
       "    <tr>\n",
       "      <th>73856</th>\n",
       "      <td>Luz Stella Luengas</td>\n",
       "      <td>Karen Bayona</td>\n",
       "      <td>ACTOR</td>\n",
       "      <td>Lokillo</td>\n",
       "      <td>the movie</td>\n",
       "      <td>2021</td>\n",
       "      <td>['comedy']</td>\n",
       "      <td>3.8</td>\n",
       "      <td>68.0</td>\n",
       "    </tr>\n",
       "    <tr>\n",
       "      <th>73857</th>\n",
       "      <td>In??s Prieto</td>\n",
       "      <td>Fanny</td>\n",
       "      <td>ACTOR</td>\n",
       "      <td>Lokillo</td>\n",
       "      <td>the movie</td>\n",
       "      <td>2021</td>\n",
       "      <td>['comedy']</td>\n",
       "      <td>3.8</td>\n",
       "      <td>68.0</td>\n",
       "    </tr>\n",
       "    <tr>\n",
       "      <th>73858</th>\n",
       "      <td>Julian Gaviria</td>\n",
       "      <td>unknown</td>\n",
       "      <td>DIRECTOR</td>\n",
       "      <td>Lokillo</td>\n",
       "      <td>the movie</td>\n",
       "      <td>2021</td>\n",
       "      <td>['comedy']</td>\n",
       "      <td>3.8</td>\n",
       "      <td>68.0</td>\n",
       "    </tr>\n",
       "  </tbody>\n",
       "</table>\n",
       "<p>69881 rows × 9 columns</p>\n",
       "</div>"
      ],
      "text/plain": [
       "                     name            character      role     title       type  \\\n",
       "1661          Jeff Probst       Himself - Host     ACTOR  Survivor       SHOW   \n",
       "1952     Benicio del Toro  Franky Four Fingers     ACTOR    Snatch      MOVIE   \n",
       "1953        Dennis Farina           Cousin Avi     ACTOR    Snatch      MOVIE   \n",
       "1954         Vinnie Jones    Bullet Tooth Tony     ACTOR    Snatch      MOVIE   \n",
       "1955            Brad Pitt        Mickey O'Neil     ACTOR    Snatch      MOVIE   \n",
       "...                   ...                  ...       ...       ...        ...   \n",
       "73854       A??da Morales              Maritza     ACTOR   Lokillo  the movie   \n",
       "73855    Adelaida Buscato           Mar??a Paz     ACTOR   Lokillo  the movie   \n",
       "73856  Luz Stella Luengas         Karen Bayona     ACTOR   Lokillo  the movie   \n",
       "73857        In??s Prieto                Fanny     ACTOR   Lokillo  the movie   \n",
       "73858      Julian Gaviria              unknown  DIRECTOR   Lokillo  the movie   \n",
       "\n",
       "       release_year               genres  imdb_score  imdb_votes  \n",
       "1661           2000          ['reality']         7.4     24687.0  \n",
       "1952           2000  ['crime', 'comedy']         8.3    841435.0  \n",
       "1953           2000  ['crime', 'comedy']         8.3    841435.0  \n",
       "1954           2000  ['crime', 'comedy']         8.3    841435.0  \n",
       "1955           2000  ['crime', 'comedy']         8.3    841435.0  \n",
       "...             ...                  ...         ...         ...  \n",
       "73854          2021           ['comedy']         3.8        68.0  \n",
       "73855          2021           ['comedy']         3.8        68.0  \n",
       "73856          2021           ['comedy']         3.8        68.0  \n",
       "73857          2021           ['comedy']         3.8        68.0  \n",
       "73858          2021           ['comedy']         3.8        68.0  \n",
       "\n",
       "[69881 rows x 9 columns]"
      ]
     },
     "execution_count": 19,
     "metadata": {},
     "output_type": "execute_result"
    }
   ],
   "source": [
    "# using conditional indexing modify df so it has only titles released after 1999 (with 1999 included)\n",
    "# give the slice of dataframe new name\n",
    "data_1999 = df[df['release_year'] >= 1999]\n",
    "data_1999"
   ]
  },
  {
   "cell_type": "code",
   "execution_count": 20,
   "id": "128dc6a9",
   "metadata": {
    "scrolled": true
   },
   "outputs": [
    {
     "data": {
      "text/html": [
       "<div>\n",
       "<style scoped>\n",
       "    .dataframe tbody tr th:only-of-type {\n",
       "        vertical-align: middle;\n",
       "    }\n",
       "\n",
       "    .dataframe tbody tr th {\n",
       "        vertical-align: top;\n",
       "    }\n",
       "\n",
       "    .dataframe thead th {\n",
       "        text-align: right;\n",
       "    }\n",
       "</style>\n",
       "<table border=\"1\" class=\"dataframe\">\n",
       "  <thead>\n",
       "    <tr style=\"text-align: right;\">\n",
       "      <th></th>\n",
       "      <th>name</th>\n",
       "      <th>character</th>\n",
       "      <th>role</th>\n",
       "      <th>title</th>\n",
       "      <th>type</th>\n",
       "      <th>release_year</th>\n",
       "      <th>genres</th>\n",
       "      <th>imdb_score</th>\n",
       "      <th>imdb_votes</th>\n",
       "    </tr>\n",
       "  </thead>\n",
       "  <tbody>\n",
       "    <tr>\n",
       "      <th>1661</th>\n",
       "      <td>Jeff Probst</td>\n",
       "      <td>Himself - Host</td>\n",
       "      <td>ACTOR</td>\n",
       "      <td>Survivor</td>\n",
       "      <td>SHOW</td>\n",
       "      <td>2000</td>\n",
       "      <td>['reality']</td>\n",
       "      <td>7.4</td>\n",
       "      <td>24687.0</td>\n",
       "    </tr>\n",
       "    <tr>\n",
       "      <th>2073</th>\n",
       "      <td>Mayumi Tanaka</td>\n",
       "      <td>Monkey D. Luffy (voice)</td>\n",
       "      <td>ACTOR</td>\n",
       "      <td>One Piece</td>\n",
       "      <td>SHOW</td>\n",
       "      <td>1999</td>\n",
       "      <td>['animation', 'action', 'comedy', 'drama', 'fa...</td>\n",
       "      <td>8.8</td>\n",
       "      <td>117129.0</td>\n",
       "    </tr>\n",
       "    <tr>\n",
       "      <th>2074</th>\n",
       "      <td>Kazuya Nakai</td>\n",
       "      <td>Roronoa Zoro (voice)</td>\n",
       "      <td>ACTOR</td>\n",
       "      <td>One Piece</td>\n",
       "      <td>SHOW</td>\n",
       "      <td>1999</td>\n",
       "      <td>['animation', 'action', 'comedy', 'drama', 'fa...</td>\n",
       "      <td>8.8</td>\n",
       "      <td>117129.0</td>\n",
       "    </tr>\n",
       "    <tr>\n",
       "      <th>2075</th>\n",
       "      <td>Akemi Okamura</td>\n",
       "      <td>Nami (voice)</td>\n",
       "      <td>ACTOR</td>\n",
       "      <td>One Piece</td>\n",
       "      <td>SHOW</td>\n",
       "      <td>1999</td>\n",
       "      <td>['animation', 'action', 'comedy', 'drama', 'fa...</td>\n",
       "      <td>8.8</td>\n",
       "      <td>117129.0</td>\n",
       "    </tr>\n",
       "    <tr>\n",
       "      <th>2076</th>\n",
       "      <td>Kappei Yamaguchi</td>\n",
       "      <td>Usopp (voice)</td>\n",
       "      <td>ACTOR</td>\n",
       "      <td>One Piece</td>\n",
       "      <td>SHOW</td>\n",
       "      <td>1999</td>\n",
       "      <td>['animation', 'action', 'comedy', 'drama', 'fa...</td>\n",
       "      <td>8.8</td>\n",
       "      <td>117129.0</td>\n",
       "    </tr>\n",
       "  </tbody>\n",
       "</table>\n",
       "</div>"
      ],
      "text/plain": [
       "                  name                character   role      title  type  \\\n",
       "1661       Jeff Probst           Himself - Host  ACTOR   Survivor  SHOW   \n",
       "2073     Mayumi Tanaka  Monkey D. Luffy (voice)  ACTOR  One Piece  SHOW   \n",
       "2074      Kazuya Nakai     Roronoa Zoro (voice)  ACTOR  One Piece  SHOW   \n",
       "2075     Akemi Okamura             Nami (voice)  ACTOR  One Piece  SHOW   \n",
       "2076  Kappei Yamaguchi            Usopp (voice)  ACTOR  One Piece  SHOW   \n",
       "\n",
       "      release_year                                             genres  \\\n",
       "1661          2000                                        ['reality']   \n",
       "2073          1999  ['animation', 'action', 'comedy', 'drama', 'fa...   \n",
       "2074          1999  ['animation', 'action', 'comedy', 'drama', 'fa...   \n",
       "2075          1999  ['animation', 'action', 'comedy', 'drama', 'fa...   \n",
       "2076          1999  ['animation', 'action', 'comedy', 'drama', 'fa...   \n",
       "\n",
       "      imdb_score  imdb_votes  \n",
       "1661         7.4     24687.0  \n",
       "2073         8.8    117129.0  \n",
       "2074         8.8    117129.0  \n",
       "2075         8.8    117129.0  \n",
       "2076         8.8    117129.0  "
      ]
     },
     "execution_count": 20,
     "metadata": {},
     "output_type": "execute_result"
    }
   ],
   "source": [
    "# repeat conditional indexing so df has only shows (movies are removed as result)\n",
    "data_1999 = data_1999[data_1999['type'] == \"SHOW\"]\n",
    "data_1999.head()"
   ]
  },
  {
   "cell_type": "markdown",
   "id": "4f2157e7",
   "metadata": {},
   "source": [
    "<div class=\"alert alert-success\" style=\"border-radius: 15px; box-shadow: 4px 4px 4px; border: 1px solid \">\n",
    "<h2> Reviewer's comment ✔️</h2>\n",
    "    \n",
    "Correct.\n",
    "    \n",
    "</div>"
   ]
  },
  {
   "cell_type": "markdown",
   "id": "9648040c",
   "metadata": {},
   "source": [
    "The scores that are to be grouped should be rounded. For instance, titles with scores like 7.8, 8.1, and 8.3 will all be placed in the same bucket with a score of 8."
   ]
  },
  {
   "cell_type": "code",
   "execution_count": 21,
   "id": "54bbd5c0",
   "metadata": {},
   "outputs": [
    {
     "name": "stderr",
     "output_type": "stream",
     "text": [
      "/tmp/ipykernel_31/1272915053.py:2: SettingWithCopyWarning: \n",
      "A value is trying to be set on a copy of a slice from a DataFrame.\n",
      "Try using .loc[row_indexer,col_indexer] = value instead\n",
      "\n",
      "See the caveats in the documentation: https://pandas.pydata.org/pandas-docs/stable/user_guide/indexing.html#returning-a-view-versus-a-copy\n",
      "  data_1999['imdb_score'] = data_1999['imdb_score'].round()\n"
     ]
    },
    {
     "data": {
      "text/html": [
       "<div>\n",
       "<style scoped>\n",
       "    .dataframe tbody tr th:only-of-type {\n",
       "        vertical-align: middle;\n",
       "    }\n",
       "\n",
       "    .dataframe tbody tr th {\n",
       "        vertical-align: top;\n",
       "    }\n",
       "\n",
       "    .dataframe thead th {\n",
       "        text-align: right;\n",
       "    }\n",
       "</style>\n",
       "<table border=\"1\" class=\"dataframe\">\n",
       "  <thead>\n",
       "    <tr style=\"text-align: right;\">\n",
       "      <th></th>\n",
       "      <th>name</th>\n",
       "      <th>character</th>\n",
       "      <th>role</th>\n",
       "      <th>title</th>\n",
       "      <th>type</th>\n",
       "      <th>release_year</th>\n",
       "      <th>genres</th>\n",
       "      <th>imdb_score</th>\n",
       "      <th>imdb_votes</th>\n",
       "    </tr>\n",
       "  </thead>\n",
       "  <tbody>\n",
       "    <tr>\n",
       "      <th>73831</th>\n",
       "      <td>Maneerat Kam-Uan</td>\n",
       "      <td>Ae</td>\n",
       "      <td>ACTOR</td>\n",
       "      <td>Let's Eat</td>\n",
       "      <td>SHOW</td>\n",
       "      <td>2021</td>\n",
       "      <td>['drama', 'comedy']</td>\n",
       "      <td>8.0</td>\n",
       "      <td>5.0</td>\n",
       "    </tr>\n",
       "    <tr>\n",
       "      <th>73832</th>\n",
       "      <td>Rudklao Amratisha</td>\n",
       "      <td>unknown</td>\n",
       "      <td>ACTOR</td>\n",
       "      <td>Let's Eat</td>\n",
       "      <td>SHOW</td>\n",
       "      <td>2021</td>\n",
       "      <td>['drama', 'comedy']</td>\n",
       "      <td>8.0</td>\n",
       "      <td>5.0</td>\n",
       "    </tr>\n",
       "    <tr>\n",
       "      <th>73833</th>\n",
       "      <td>Jaturong Mokjok</td>\n",
       "      <td>unknown</td>\n",
       "      <td>ACTOR</td>\n",
       "      <td>Let's Eat</td>\n",
       "      <td>SHOW</td>\n",
       "      <td>2021</td>\n",
       "      <td>['drama', 'comedy']</td>\n",
       "      <td>8.0</td>\n",
       "      <td>5.0</td>\n",
       "    </tr>\n",
       "    <tr>\n",
       "      <th>73834</th>\n",
       "      <td>Pisamai Wilaisak</td>\n",
       "      <td>unknown</td>\n",
       "      <td>ACTOR</td>\n",
       "      <td>Let's Eat</td>\n",
       "      <td>SHOW</td>\n",
       "      <td>2021</td>\n",
       "      <td>['drama', 'comedy']</td>\n",
       "      <td>8.0</td>\n",
       "      <td>5.0</td>\n",
       "    </tr>\n",
       "    <tr>\n",
       "      <th>73835</th>\n",
       "      <td>Sarawut Wichiensarn</td>\n",
       "      <td>unknown</td>\n",
       "      <td>DIRECTOR</td>\n",
       "      <td>Let's Eat</td>\n",
       "      <td>SHOW</td>\n",
       "      <td>2021</td>\n",
       "      <td>['drama', 'comedy']</td>\n",
       "      <td>8.0</td>\n",
       "      <td>5.0</td>\n",
       "    </tr>\n",
       "  </tbody>\n",
       "</table>\n",
       "</div>"
      ],
      "text/plain": [
       "                      name character      role      title  type  release_year  \\\n",
       "73831     Maneerat Kam-Uan        Ae     ACTOR  Let's Eat  SHOW          2021   \n",
       "73832    Rudklao Amratisha   unknown     ACTOR  Let's Eat  SHOW          2021   \n",
       "73833      Jaturong Mokjok   unknown     ACTOR  Let's Eat  SHOW          2021   \n",
       "73834     Pisamai Wilaisak   unknown     ACTOR  Let's Eat  SHOW          2021   \n",
       "73835  Sarawut Wichiensarn   unknown  DIRECTOR  Let's Eat  SHOW          2021   \n",
       "\n",
       "                    genres  imdb_score  imdb_votes  \n",
       "73831  ['drama', 'comedy']         8.0         5.0  \n",
       "73832  ['drama', 'comedy']         8.0         5.0  \n",
       "73833  ['drama', 'comedy']         8.0         5.0  \n",
       "73834  ['drama', 'comedy']         8.0         5.0  \n",
       "73835  ['drama', 'comedy']         8.0         5.0  "
      ]
     },
     "execution_count": 21,
     "metadata": {},
     "output_type": "execute_result"
    }
   ],
   "source": [
    "# rounding column with scores\n",
    "data_1999['imdb_score'] = data_1999['imdb_score'].round()\n",
    "# Doing it this way creates a warning, but seems to work fine. Hmmm.\n",
    "#checking the outcome with tail()\n",
    "data_1999.tail()"
   ]
  },
  {
   "cell_type": "markdown",
   "id": "36dbd00a",
   "metadata": {},
   "source": [
    "It is now time to identify outliers based on the number of votes."
   ]
  },
  {
   "cell_type": "code",
   "execution_count": 22,
   "id": "b8b55e95",
   "metadata": {},
   "outputs": [
    {
     "name": "stdout",
     "output_type": "stream",
     "text": [
      "            name  character  role  title  type  release_year  genres  \\\n",
      "imdb_score                                                             \n",
      "2.0           24         18     2      5     1             4       5   \n",
      "3.0           27         27     2      4     1             3       4   \n",
      "4.0          174        108     2     30     1            13      19   \n",
      "5.0          581        419     2     94     1            12      68   \n",
      "6.0         2365       1896     2    347     1            19     212   \n",
      "7.0         4342       3813     2    593     1            24     304   \n",
      "8.0         4194       4028     2    539     1            23     329   \n",
      "9.0          542        498     2     65     1            20      50   \n",
      "10.0           8          8     1      1     1             1       1   \n",
      "\n",
      "            imdb_votes  \n",
      "imdb_score              \n",
      "2.0                  5  \n",
      "3.0                  4  \n",
      "4.0                 30  \n",
      "5.0                 91  \n",
      "6.0                329  \n",
      "7.0                568  \n",
      "8.0                527  \n",
      "9.0                 65  \n",
      "10.0                 1  \n"
     ]
    }
   ],
   "source": [
    "# Use groupby() for scores and count all unique values in each group, print the result\n",
    "# Original answer:\n",
    "# print(data_1999.groupby('imdb_score').count())\n",
    "\n",
    "# New answer:\n",
    "print(data_1999.groupby('imdb_score').nunique())"
   ]
  },
  {
   "cell_type": "markdown",
   "id": "ac6b97ec",
   "metadata": {},
   "source": [
    "<div class=\"alert alert-danger\" style=\"border-radius: 15px; box-shadow: 4px 4px 4px; border: 1px solid \">\n",
    "<b> Reviewer's comment ❌</b>\n",
    "    \n",
    "We are asked about the unique values, not the number of rows. \n",
    "    \n",
    "\n",
    "</div>"
   ]
  },
  {
   "cell_type": "markdown",
   "id": "ca44c0f4",
   "metadata": {},
   "source": [
    "<div class='alert alert-info'><b><font color='blue'>Is this what you were asking for?</font></b></div>"
   ]
  },
  {
   "cell_type": "markdown",
   "id": "71e53e4b",
   "metadata": {},
   "source": [
    "<div class=\"alert alert-success\" style=\"border-radius: 15px; box-shadow: 4px 4px 4px; border: 1px solid \">\n",
    "<h2> Reviewer's comment 2 ✔️</h2>\n",
    "    \n",
    "Correct! `nunique` returns us the number of unique values, while `count` returns us the number of rows. Take a look:\n",
    "    \n",
    "</div>"
   ]
  },
  {
   "cell_type": "code",
   "execution_count": 26,
   "id": "785cefe8",
   "metadata": {},
   "outputs": [
    {
     "data": {
      "text/html": [
       "<div>\n",
       "<style scoped>\n",
       "    .dataframe tbody tr th:only-of-type {\n",
       "        vertical-align: middle;\n",
       "    }\n",
       "\n",
       "    .dataframe tbody tr th {\n",
       "        vertical-align: top;\n",
       "    }\n",
       "\n",
       "    .dataframe thead th {\n",
       "        text-align: right;\n",
       "    }\n",
       "</style>\n",
       "<table border=\"1\" class=\"dataframe\">\n",
       "  <thead>\n",
       "    <tr style=\"text-align: right;\">\n",
       "      <th></th>\n",
       "      <th>count</th>\n",
       "      <th>nunique</th>\n",
       "    </tr>\n",
       "    <tr>\n",
       "      <th>imdb_score</th>\n",
       "      <th></th>\n",
       "      <th></th>\n",
       "    </tr>\n",
       "  </thead>\n",
       "  <tbody>\n",
       "    <tr>\n",
       "      <th>4.0</th>\n",
       "      <td>180</td>\n",
       "      <td>174</td>\n",
       "    </tr>\n",
       "    <tr>\n",
       "      <th>5.0</th>\n",
       "      <td>592</td>\n",
       "      <td>581</td>\n",
       "    </tr>\n",
       "    <tr>\n",
       "      <th>6.0</th>\n",
       "      <td>2494</td>\n",
       "      <td>2365</td>\n",
       "    </tr>\n",
       "    <tr>\n",
       "      <th>7.0</th>\n",
       "      <td>4706</td>\n",
       "      <td>4342</td>\n",
       "    </tr>\n",
       "    <tr>\n",
       "      <th>8.0</th>\n",
       "      <td>4842</td>\n",
       "      <td>4194</td>\n",
       "    </tr>\n",
       "    <tr>\n",
       "      <th>9.0</th>\n",
       "      <td>557</td>\n",
       "      <td>542</td>\n",
       "    </tr>\n",
       "  </tbody>\n",
       "</table>\n",
       "</div>"
      ],
      "text/plain": [
       "            count  nunique\n",
       "imdb_score                \n",
       "4.0           180      174\n",
       "5.0           592      581\n",
       "6.0          2494     2365\n",
       "7.0          4706     4342\n",
       "8.0          4842     4194\n",
       "9.0           557      542"
      ]
     },
     "execution_count": 26,
     "metadata": {},
     "output_type": "execute_result"
    }
   ],
   "source": [
    "# Reviewer's code 2\n",
    "\n",
    "data_1999.groupby('imdb_score')['name'].agg(['count', 'nunique'])"
   ]
  },
  {
   "cell_type": "markdown",
   "id": "1ba6daae",
   "metadata": {},
   "source": [
    "Based on the aggregation performed, it is evident that scores 2 (24 voted shows), 3 (27 voted shows), and 10 (only 8 voted shows) are outliers. There isn't enough data for these scores for the average number of votes to be meaningful."
   ]
  },
  {
   "cell_type": "markdown",
   "id": "bd468c46",
   "metadata": {},
   "source": [
    "To obtain the mean numbers of votes for the selected scores (we identified a range of 4-9 as acceptable), use conditional filtering and grouping."
   ]
  },
  {
   "cell_type": "code",
   "execution_count": 23,
   "id": "d1867e0e",
   "metadata": {},
   "outputs": [
    {
     "data": {
      "text/html": [
       "<div>\n",
       "<style scoped>\n",
       "    .dataframe tbody tr th:only-of-type {\n",
       "        vertical-align: middle;\n",
       "    }\n",
       "\n",
       "    .dataframe tbody tr th {\n",
       "        vertical-align: top;\n",
       "    }\n",
       "\n",
       "    .dataframe thead th {\n",
       "        text-align: right;\n",
       "    }\n",
       "</style>\n",
       "<table border=\"1\" class=\"dataframe\">\n",
       "  <thead>\n",
       "    <tr style=\"text-align: right;\">\n",
       "      <th></th>\n",
       "      <th>index</th>\n",
       "      <th>release_year</th>\n",
       "      <th>imdb_votes</th>\n",
       "    </tr>\n",
       "    <tr>\n",
       "      <th>imdb_score</th>\n",
       "      <th></th>\n",
       "      <th></th>\n",
       "      <th></th>\n",
       "    </tr>\n",
       "  </thead>\n",
       "  <tbody>\n",
       "    <tr>\n",
       "      <th>4.0</th>\n",
       "      <td>47682.972222</td>\n",
       "      <td>2018.072222</td>\n",
       "      <td>5277.583333</td>\n",
       "    </tr>\n",
       "    <tr>\n",
       "      <th>5.0</th>\n",
       "      <td>50642.133446</td>\n",
       "      <td>2018.881757</td>\n",
       "      <td>3143.942568</td>\n",
       "    </tr>\n",
       "    <tr>\n",
       "      <th>6.0</th>\n",
       "      <td>48893.382117</td>\n",
       "      <td>2018.627506</td>\n",
       "      <td>3481.717322</td>\n",
       "    </tr>\n",
       "    <tr>\n",
       "      <th>7.0</th>\n",
       "      <td>42935.899278</td>\n",
       "      <td>2018.061411</td>\n",
       "      <td>8727.068211</td>\n",
       "    </tr>\n",
       "    <tr>\n",
       "      <th>8.0</th>\n",
       "      <td>37703.322594</td>\n",
       "      <td>2017.120611</td>\n",
       "      <td>30299.460967</td>\n",
       "    </tr>\n",
       "    <tr>\n",
       "      <th>9.0</th>\n",
       "      <td>31172.134650</td>\n",
       "      <td>2015.287253</td>\n",
       "      <td>126904.109515</td>\n",
       "    </tr>\n",
       "  </tbody>\n",
       "</table>\n",
       "</div>"
      ],
      "text/plain": [
       "                   index  release_year     imdb_votes\n",
       "imdb_score                                           \n",
       "4.0         47682.972222   2018.072222    5277.583333\n",
       "5.0         50642.133446   2018.881757    3143.942568\n",
       "6.0         48893.382117   2018.627506    3481.717322\n",
       "7.0         42935.899278   2018.061411    8727.068211\n",
       "8.0         37703.322594   2017.120611   30299.460967\n",
       "9.0         31172.134650   2015.287253  126904.109515"
      ]
     },
     "execution_count": 23,
     "metadata": {},
     "output_type": "execute_result"
    }
   ],
   "source": [
    "# filter dataframe using two conditions (scores to be in the range 4-9)\n",
    "data_1999 = data_1999[data_1999['imdb_score'] <= 9]\n",
    "data_1999 = data_1999[data_1999['imdb_score'] >= 4]\n",
    "# group scores and corresponding average number of votes, reset index and print the result\n",
    "groups = data_1999.reset_index().groupby(['imdb_score'])\n",
    "groups = groups.mean()\n",
    "groups"
   ]
  },
  {
   "cell_type": "markdown",
   "id": "96a66d14",
   "metadata": {},
   "source": [
    "Now for the final step! Round the column with the averages, rename both columns, and print the dataframe in descending order."
   ]
  },
  {
   "cell_type": "code",
   "execution_count": 24,
   "id": "5999051b",
   "metadata": {},
   "outputs": [
    {
     "name": "stdout",
     "output_type": "stream",
     "text": [
      "              index  release_year  Average Votes\n",
      "imdb_score                                      \n",
      "9.0         31172.0        2015.0       126904.0\n",
      "8.0         37703.0        2017.0        30299.0\n",
      "7.0         42936.0        2018.0         8727.0\n",
      "6.0         48893.0        2019.0         3482.0\n",
      "5.0         50642.0        2019.0         3144.0\n",
      "4.0         47683.0        2018.0         5278.0\n"
     ]
    }
   ],
   "source": [
    "# round column with averages\n",
    "groups = groups.round()\n",
    "# rename columns\n",
    "groups = groups.rename(\n",
    "    columns= {\n",
    "        'imdb_score': 'Score',\n",
    "        'imdb_votes': 'Average Votes'\n",
    "    }\n",
    ")\n",
    "# for some reason 'imdb_score' does not get renamed. I'm unclear why\n",
    "# print dataframe in descending order\n",
    "print(groups.sort_values(by='imdb_score', ascending=False))"
   ]
  },
  {
   "cell_type": "markdown",
   "id": "70d0aae5",
   "metadata": {},
   "source": [
    "<div class=\"alert alert-success\" style=\"border-radius: 15px; box-shadow: 4px 4px 4px; border: 1px solid \">\n",
    "<h2> Reviewer's comment ✔️</h2>\n",
    "    \n",
    "> for some reason 'imdb_score' does not get renamed. I'm unclear why\n",
    "    \n",
    "    \n",
    "Because it is not a column. \n",
    "\n",
    "</div>"
   ]
  },
  {
   "cell_type": "markdown",
   "id": "27182ac1",
   "metadata": {},
   "source": [
    "<div class='alert alert-info'><b><font color='blue'>\n",
    "    Then what is it? And how do I rename it? See <i>print(groups.info())</i> below. <br /> Does running <i>groupby()</i> turn it into an index?<br /><br /><a href=https://stackoverflow.com/questions/19851005/rename-pandas-dataframe-index>This StackOverflow post</a> helped me figure it out. See the next cell.\n",
    "</font></b></div>"
   ]
  },
  {
   "cell_type": "markdown",
   "id": "3dfc5c3c",
   "metadata": {},
   "source": [
    "<div class=\"alert alert-success\" style=\"border-radius: 15px; box-shadow: 4px 4px 4px; border: 1px solid \">\n",
    "<h2> Reviewer's comment 2 ✔️</h2>\n",
    "    \n",
    "Yes, it became index. Let's print it:    \n",
    "</div>"
   ]
  },
  {
   "cell_type": "code",
   "execution_count": 28,
   "id": "176d72fd",
   "metadata": {},
   "outputs": [
    {
     "data": {
      "text/html": [
       "<div>\n",
       "<style scoped>\n",
       "    .dataframe tbody tr th:only-of-type {\n",
       "        vertical-align: middle;\n",
       "    }\n",
       "\n",
       "    .dataframe tbody tr th {\n",
       "        vertical-align: top;\n",
       "    }\n",
       "\n",
       "    .dataframe thead th {\n",
       "        text-align: right;\n",
       "    }\n",
       "</style>\n",
       "<table border=\"1\" class=\"dataframe\">\n",
       "  <thead>\n",
       "    <tr style=\"text-align: right;\">\n",
       "      <th></th>\n",
       "      <th>index</th>\n",
       "      <th>release_year</th>\n",
       "      <th>Average Votes</th>\n",
       "    </tr>\n",
       "    <tr>\n",
       "      <th>imdb_score</th>\n",
       "      <th></th>\n",
       "      <th></th>\n",
       "      <th></th>\n",
       "    </tr>\n",
       "  </thead>\n",
       "  <tbody>\n",
       "    <tr>\n",
       "      <th>4.0</th>\n",
       "      <td>47683.0</td>\n",
       "      <td>2018.0</td>\n",
       "      <td>5278.0</td>\n",
       "    </tr>\n",
       "    <tr>\n",
       "      <th>5.0</th>\n",
       "      <td>50642.0</td>\n",
       "      <td>2019.0</td>\n",
       "      <td>3144.0</td>\n",
       "    </tr>\n",
       "    <tr>\n",
       "      <th>6.0</th>\n",
       "      <td>48893.0</td>\n",
       "      <td>2019.0</td>\n",
       "      <td>3482.0</td>\n",
       "    </tr>\n",
       "    <tr>\n",
       "      <th>7.0</th>\n",
       "      <td>42936.0</td>\n",
       "      <td>2018.0</td>\n",
       "      <td>8727.0</td>\n",
       "    </tr>\n",
       "    <tr>\n",
       "      <th>8.0</th>\n",
       "      <td>37703.0</td>\n",
       "      <td>2017.0</td>\n",
       "      <td>30299.0</td>\n",
       "    </tr>\n",
       "    <tr>\n",
       "      <th>9.0</th>\n",
       "      <td>31172.0</td>\n",
       "      <td>2015.0</td>\n",
       "      <td>126904.0</td>\n",
       "    </tr>\n",
       "  </tbody>\n",
       "</table>\n",
       "</div>"
      ],
      "text/plain": [
       "              index  release_year  Average Votes\n",
       "imdb_score                                      \n",
       "4.0         47683.0        2018.0         5278.0\n",
       "5.0         50642.0        2019.0         3144.0\n",
       "6.0         48893.0        2019.0         3482.0\n",
       "7.0         42936.0        2018.0         8727.0\n",
       "8.0         37703.0        2017.0        30299.0\n",
       "9.0         31172.0        2015.0       126904.0"
      ]
     },
     "execution_count": 28,
     "metadata": {},
     "output_type": "execute_result"
    }
   ],
   "source": [
    "# Reviewer's code 2\n",
    "\n",
    "groups"
   ]
  },
  {
   "cell_type": "code",
   "execution_count": 29,
   "id": "016563f1",
   "metadata": {},
   "outputs": [
    {
     "data": {
      "text/plain": [
       "Float64Index([4.0, 5.0, 6.0, 7.0, 8.0, 9.0], dtype='float64', name='imdb_score')"
      ]
     },
     "execution_count": 29,
     "metadata": {},
     "output_type": "execute_result"
    }
   ],
   "source": [
    "# Reviewer's code 2\n",
    "\n",
    "groups.index"
   ]
  },
  {
   "cell_type": "markdown",
   "id": "e13e4a14",
   "metadata": {},
   "source": [
    "<div class=\"alert alert-success\" style=\"border-radius: 15px; box-shadow: 4px 4px 4px; border: 1px solid \">\n",
    "<h2> Reviewer's comment 2 ✔️</h2>\n",
    "    \n",
    "You can also reset index:</div>"
   ]
  },
  {
   "cell_type": "code",
   "execution_count": 30,
   "id": "c98ed32f",
   "metadata": {},
   "outputs": [
    {
     "data": {
      "text/html": [
       "<div>\n",
       "<style scoped>\n",
       "    .dataframe tbody tr th:only-of-type {\n",
       "        vertical-align: middle;\n",
       "    }\n",
       "\n",
       "    .dataframe tbody tr th {\n",
       "        vertical-align: top;\n",
       "    }\n",
       "\n",
       "    .dataframe thead th {\n",
       "        text-align: right;\n",
       "    }\n",
       "</style>\n",
       "<table border=\"1\" class=\"dataframe\">\n",
       "  <thead>\n",
       "    <tr style=\"text-align: right;\">\n",
       "      <th></th>\n",
       "      <th>imdb_score</th>\n",
       "      <th>index</th>\n",
       "      <th>release_year</th>\n",
       "      <th>Average Votes</th>\n",
       "    </tr>\n",
       "  </thead>\n",
       "  <tbody>\n",
       "    <tr>\n",
       "      <th>0</th>\n",
       "      <td>4.0</td>\n",
       "      <td>47683.0</td>\n",
       "      <td>2018.0</td>\n",
       "      <td>5278.0</td>\n",
       "    </tr>\n",
       "    <tr>\n",
       "      <th>1</th>\n",
       "      <td>5.0</td>\n",
       "      <td>50642.0</td>\n",
       "      <td>2019.0</td>\n",
       "      <td>3144.0</td>\n",
       "    </tr>\n",
       "    <tr>\n",
       "      <th>2</th>\n",
       "      <td>6.0</td>\n",
       "      <td>48893.0</td>\n",
       "      <td>2019.0</td>\n",
       "      <td>3482.0</td>\n",
       "    </tr>\n",
       "    <tr>\n",
       "      <th>3</th>\n",
       "      <td>7.0</td>\n",
       "      <td>42936.0</td>\n",
       "      <td>2018.0</td>\n",
       "      <td>8727.0</td>\n",
       "    </tr>\n",
       "    <tr>\n",
       "      <th>4</th>\n",
       "      <td>8.0</td>\n",
       "      <td>37703.0</td>\n",
       "      <td>2017.0</td>\n",
       "      <td>30299.0</td>\n",
       "    </tr>\n",
       "    <tr>\n",
       "      <th>5</th>\n",
       "      <td>9.0</td>\n",
       "      <td>31172.0</td>\n",
       "      <td>2015.0</td>\n",
       "      <td>126904.0</td>\n",
       "    </tr>\n",
       "  </tbody>\n",
       "</table>\n",
       "</div>"
      ],
      "text/plain": [
       "   imdb_score    index  release_year  Average Votes\n",
       "0         4.0  47683.0        2018.0         5278.0\n",
       "1         5.0  50642.0        2019.0         3144.0\n",
       "2         6.0  48893.0        2019.0         3482.0\n",
       "3         7.0  42936.0        2018.0         8727.0\n",
       "4         8.0  37703.0        2017.0        30299.0\n",
       "5         9.0  31172.0        2015.0       126904.0"
      ]
     },
     "execution_count": 30,
     "metadata": {},
     "output_type": "execute_result"
    }
   ],
   "source": [
    "# Reviewer's code 2\n",
    "\n",
    "groups.reset_index()"
   ]
  },
  {
   "cell_type": "markdown",
   "id": "d99d6778",
   "metadata": {},
   "source": [
    "<div class=\"alert alert-success\" style=\"border-radius: 15px; box-shadow: 4px 4px 4px; border: 1px solid \">\n",
    "<h2> Reviewer's comment 2 ✔️</h2>\n",
    "    \n",
    "It will be a column:</div>"
   ]
  },
  {
   "cell_type": "code",
   "execution_count": 32,
   "id": "535f9928",
   "metadata": {},
   "outputs": [
    {
     "data": {
      "text/plain": [
       "Index(['imdb_score', 'index', 'release_year', 'Average Votes'], dtype='object')"
      ]
     },
     "execution_count": 32,
     "metadata": {},
     "output_type": "execute_result"
    }
   ],
   "source": [
    "# Reviewer's code 2\n",
    "\n",
    "groups.reset_index().columns"
   ]
  },
  {
   "cell_type": "code",
   "execution_count": 25,
   "id": "fced2134",
   "metadata": {},
   "outputs": [
    {
     "name": "stdout",
     "output_type": "stream",
     "text": [
      "<class 'pandas.core.frame.DataFrame'>\n",
      "Float64Index: 6 entries, 4.0 to 9.0\n",
      "Data columns (total 3 columns):\n",
      " #   Column         Non-Null Count  Dtype  \n",
      "---  ------         --------------  -----  \n",
      " 0   index          6 non-null      float64\n",
      " 1   release_year   6 non-null      float64\n",
      " 2   Average Votes  6 non-null      float64\n",
      "dtypes: float64(3)\n",
      "memory usage: 192.0 bytes\n",
      "None\n",
      "              index  release_year  Average Votes\n",
      "IMDB Score                                      \n",
      "4.0         47683.0        2018.0         5278.0\n",
      "5.0         50642.0        2019.0         3144.0\n",
      "6.0         48893.0        2019.0         3482.0\n",
      "7.0         42936.0        2018.0         8727.0\n",
      "8.0         37703.0        2017.0        30299.0\n",
      "9.0         31172.0        2015.0       126904.0\n"
     ]
    }
   ],
   "source": [
    "print(groups.info())\n",
    "\n",
    "print(groups.rename_axis('IMDB Score'))"
   ]
  },
  {
   "cell_type": "markdown",
   "id": "6443d57d",
   "metadata": {},
   "source": [
    "<div class=\"alert alert-success\" style=\"border-radius: 15px; box-shadow: 4px 4px 4px; border: 1px solid \">\n",
    "<h2> Reviewer's comment 2 ✔️</h2>\n",
    "    \n",
    "It's great that you find solutions and answers to your questions. I would argue it is one of the most important skills. </div>"
   ]
  },
  {
   "cell_type": "markdown",
   "id": "af07386d",
   "metadata": {},
   "source": [
    "The assumption macthes the analysis: the shows with the top 3 scores have the most amounts of votes."
   ]
  },
  {
   "cell_type": "markdown",
   "id": "84e29a37",
   "metadata": {},
   "source": [
    "## Conclusion <a id='hypotheses'></a>"
   ]
  },
  {
   "cell_type": "markdown",
   "id": "984766a3",
   "metadata": {},
   "source": [
    "The research done confirms that highly-rated shows released during the \"Golden Age\" of television also have the most votes. While shows with score 4 have more votes than ones with scores 5 and 6, the top three (scores 7-9) have the largest number. The data studied represents around 94% of the original set, so we can be confident in our findings."
   ]
  }
 ],
 "metadata": {
  "ExecuteTimeLog": [
   {
    "duration": 469,
    "start_time": "2024-07-27T02:45:35.025Z"
   },
   {
    "duration": 4,
    "start_time": "2024-07-27T02:45:38.469Z"
   },
   {
    "duration": 333,
    "start_time": "2024-07-27T02:46:00.674Z"
   },
   {
    "duration": 742,
    "start_time": "2024-07-27T02:46:29.366Z"
   },
   {
    "duration": 230,
    "start_time": "2024-07-27T02:46:37.222Z"
   },
   {
    "duration": 22,
    "start_time": "2024-07-27T02:46:47.879Z"
   },
   {
    "duration": 18,
    "start_time": "2024-07-27T02:46:52.532Z"
   },
   {
    "duration": 34,
    "start_time": "2024-07-27T02:47:10.077Z"
   },
   {
    "duration": 6,
    "start_time": "2024-07-27T02:47:59.489Z"
   },
   {
    "duration": 7,
    "start_time": "2024-07-27T02:51:22.971Z"
   },
   {
    "duration": 322,
    "start_time": "2024-07-27T02:51:29.662Z"
   },
   {
    "duration": 33,
    "start_time": "2024-07-27T02:53:05.620Z"
   },
   {
    "duration": 1081,
    "start_time": "2024-07-27T02:54:19.471Z"
   },
   {
    "duration": 5,
    "start_time": "2024-07-27T02:57:47.287Z"
   },
   {
    "duration": 5,
    "start_time": "2024-07-27T02:58:03.468Z"
   },
   {
    "duration": 11,
    "start_time": "2024-07-27T02:59:44.823Z"
   },
   {
    "duration": 6,
    "start_time": "2024-07-27T02:59:52.887Z"
   },
   {
    "duration": 29,
    "start_time": "2024-07-27T03:00:34.844Z"
   },
   {
    "duration": 23,
    "start_time": "2024-07-27T03:03:31.670Z"
   },
   {
    "duration": 53,
    "start_time": "2024-07-27T03:06:31.566Z"
   },
   {
    "duration": 35,
    "start_time": "2024-07-27T03:06:46.101Z"
   },
   {
    "duration": 37,
    "start_time": "2024-07-27T03:07:17.607Z"
   },
   {
    "duration": 27,
    "start_time": "2024-07-27T03:07:20.150Z"
   },
   {
    "duration": 80,
    "start_time": "2024-07-27T03:07:30.469Z"
   },
   {
    "duration": 70,
    "start_time": "2024-07-27T03:07:35.785Z"
   },
   {
    "duration": 73,
    "start_time": "2024-07-27T03:08:00.375Z"
   },
   {
    "duration": 81,
    "start_time": "2024-07-27T03:08:34.492Z"
   },
   {
    "duration": 102,
    "start_time": "2024-07-27T03:09:34.453Z"
   },
   {
    "duration": 83,
    "start_time": "2024-07-27T03:09:48.134Z"
   },
   {
    "duration": 87,
    "start_time": "2024-07-27T03:11:34.282Z"
   },
   {
    "duration": 83,
    "start_time": "2024-07-27T03:11:57.841Z"
   },
   {
    "duration": 87,
    "start_time": "2024-07-27T03:12:10.576Z"
   },
   {
    "duration": 92,
    "start_time": "2024-07-27T03:13:32.093Z"
   },
   {
    "duration": 84,
    "start_time": "2024-07-27T03:13:36.844Z"
   },
   {
    "duration": 80,
    "start_time": "2024-07-27T03:14:06.012Z"
   },
   {
    "duration": 86,
    "start_time": "2024-07-27T03:14:21.768Z"
   },
   {
    "duration": 83,
    "start_time": "2024-07-27T03:14:37.087Z"
   },
   {
    "duration": 85,
    "start_time": "2024-07-27T03:15:36.271Z"
   },
   {
    "duration": 84,
    "start_time": "2024-07-27T03:16:13.012Z"
   },
   {
    "duration": 83,
    "start_time": "2024-07-27T03:16:23.016Z"
   },
   {
    "duration": 99,
    "start_time": "2024-07-27T03:18:02.774Z"
   },
   {
    "duration": 18,
    "start_time": "2024-07-27T03:18:16.296Z"
   },
   {
    "duration": 19,
    "start_time": "2024-07-27T03:18:19.608Z"
   },
   {
    "duration": 72,
    "start_time": "2024-07-27T03:18:23.991Z"
   },
   {
    "duration": 86,
    "start_time": "2024-07-27T03:18:29.728Z"
   },
   {
    "duration": 68,
    "start_time": "2024-07-27T03:18:32.851Z"
   },
   {
    "duration": 3,
    "start_time": "2024-07-27T03:19:37.233Z"
   },
   {
    "duration": 5,
    "start_time": "2024-07-27T03:19:43.847Z"
   },
   {
    "duration": 4,
    "start_time": "2024-07-27T03:19:48.694Z"
   },
   {
    "duration": 6,
    "start_time": "2024-07-27T03:21:28.516Z"
   },
   {
    "duration": 19,
    "start_time": "2024-07-27T03:21:32.564Z"
   },
   {
    "duration": 10,
    "start_time": "2024-07-27T03:21:40.062Z"
   },
   {
    "duration": 40,
    "start_time": "2024-07-27T03:21:54.291Z"
   },
   {
    "duration": 18,
    "start_time": "2024-07-27T03:22:08.603Z"
   },
   {
    "duration": 6,
    "start_time": "2024-07-27T03:22:36.143Z"
   },
   {
    "duration": 9,
    "start_time": "2024-07-27T03:22:46.958Z"
   },
   {
    "duration": 26,
    "start_time": "2024-07-27T03:23:00.902Z"
   },
   {
    "duration": 10,
    "start_time": "2024-07-27T03:23:05.751Z"
   },
   {
    "duration": 26,
    "start_time": "2024-07-27T03:23:36.967Z"
   },
   {
    "duration": 6,
    "start_time": "2024-07-27T03:23:46.880Z"
   },
   {
    "duration": 26,
    "start_time": "2024-07-27T03:23:51.015Z"
   },
   {
    "duration": 9,
    "start_time": "2024-07-27T03:23:56.776Z"
   },
   {
    "duration": 53,
    "start_time": "2024-07-27T03:25:12.213Z"
   },
   {
    "duration": 23,
    "start_time": "2024-07-27T03:25:34.139Z"
   },
   {
    "duration": 5,
    "start_time": "2024-07-27T03:26:04.675Z"
   },
   {
    "duration": 52,
    "start_time": "2024-07-27T03:27:05.005Z"
   },
   {
    "duration": 54,
    "start_time": "2024-07-27T03:28:18.335Z"
   },
   {
    "duration": 53,
    "start_time": "2024-07-27T03:29:00.522Z"
   },
   {
    "duration": 53,
    "start_time": "2024-07-27T03:29:13.583Z"
   },
   {
    "duration": 8,
    "start_time": "2024-07-27T03:38:24.173Z"
   },
   {
    "duration": 35,
    "start_time": "2024-07-27T03:39:05.147Z"
   },
   {
    "duration": 34,
    "start_time": "2024-07-27T03:39:30.861Z"
   },
   {
    "duration": 5,
    "start_time": "2024-07-27T03:39:57.802Z"
   },
   {
    "duration": 6,
    "start_time": "2024-07-27T03:40:16.255Z"
   },
   {
    "duration": 6,
    "start_time": "2024-07-27T03:40:42.879Z"
   },
   {
    "duration": 4,
    "start_time": "2024-07-27T03:41:13.782Z"
   },
   {
    "duration": 8,
    "start_time": "2024-07-27T03:41:44.293Z"
   },
   {
    "duration": 4,
    "start_time": "2024-07-27T03:42:14.646Z"
   },
   {
    "duration": 76,
    "start_time": "2024-07-27T03:42:29.310Z"
   },
   {
    "duration": 9,
    "start_time": "2024-07-27T03:42:33.629Z"
   },
   {
    "duration": 54,
    "start_time": "2024-07-27T03:42:37.293Z"
   },
   {
    "duration": 21,
    "start_time": "2024-07-27T03:43:26.740Z"
   },
   {
    "duration": 6,
    "start_time": "2024-07-27T03:43:29.599Z"
   },
   {
    "duration": 4,
    "start_time": "2024-07-27T03:49:46.244Z"
   },
   {
    "duration": 12,
    "start_time": "2024-07-27T03:49:56.788Z"
   },
   {
    "duration": 4,
    "start_time": "2024-07-27T03:52:17.240Z"
   },
   {
    "duration": 22,
    "start_time": "2024-07-27T03:53:46.400Z"
   },
   {
    "duration": 54,
    "start_time": "2024-07-27T03:53:58.370Z"
   },
   {
    "duration": 42,
    "start_time": "2024-07-28T04:03:06.295Z"
   },
   {
    "duration": 29,
    "start_time": "2024-07-28T04:03:23.033Z"
   },
   {
    "duration": 32,
    "start_time": "2024-07-28T04:03:28.650Z"
   },
   {
    "duration": 28,
    "start_time": "2024-07-28T04:04:02.733Z"
   },
   {
    "duration": 19,
    "start_time": "2024-07-28T04:04:31.305Z"
   },
   {
    "duration": 251,
    "start_time": "2024-07-28T04:10:04.914Z"
   },
   {
    "duration": 16,
    "start_time": "2024-07-28T04:10:22.999Z"
   },
   {
    "duration": 17,
    "start_time": "2024-07-28T04:11:35.714Z"
   },
   {
    "duration": 7,
    "start_time": "2024-07-28T04:13:01.899Z"
   },
   {
    "duration": 20,
    "start_time": "2024-07-28T04:13:07.024Z"
   },
   {
    "duration": 11,
    "start_time": "2024-07-28T04:13:41.896Z"
   },
   {
    "duration": 21,
    "start_time": "2024-07-28T04:13:49.923Z"
   },
   {
    "duration": 23,
    "start_time": "2024-07-28T04:14:42.781Z"
   },
   {
    "duration": 13,
    "start_time": "2024-07-28T04:18:30.056Z"
   },
   {
    "duration": 14,
    "start_time": "2024-07-28T04:18:36.956Z"
   },
   {
    "duration": 29,
    "start_time": "2024-07-28T04:19:00.162Z"
   },
   {
    "duration": 21,
    "start_time": "2024-07-28T04:19:05.713Z"
   },
   {
    "duration": 29,
    "start_time": "2024-07-28T04:19:55.739Z"
   },
   {
    "duration": 25,
    "start_time": "2024-07-28T04:19:59.695Z"
   },
   {
    "duration": 18,
    "start_time": "2024-07-28T04:20:34.124Z"
   },
   {
    "duration": 17,
    "start_time": "2024-07-28T04:21:16.859Z"
   },
   {
    "duration": 18,
    "start_time": "2024-07-28T04:21:24.374Z"
   },
   {
    "duration": 16,
    "start_time": "2024-07-28T04:21:29.627Z"
   },
   {
    "duration": 17,
    "start_time": "2024-07-28T04:21:54.644Z"
   },
   {
    "duration": 17,
    "start_time": "2024-07-28T04:22:00.996Z"
   },
   {
    "duration": 18,
    "start_time": "2024-07-28T04:22:20.008Z"
   },
   {
    "duration": 22,
    "start_time": "2024-07-28T04:22:27.552Z"
   },
   {
    "duration": 21,
    "start_time": "2024-07-28T04:23:41.130Z"
   },
   {
    "duration": 24,
    "start_time": "2024-07-28T04:23:47.429Z"
   },
   {
    "duration": 15,
    "start_time": "2024-07-28T04:27:59.139Z"
   },
   {
    "duration": 25,
    "start_time": "2024-07-28T04:28:03.107Z"
   },
   {
    "duration": 33,
    "start_time": "2024-07-28T04:28:21.869Z"
   },
   {
    "duration": 34,
    "start_time": "2024-07-28T04:28:33.670Z"
   },
   {
    "duration": 16,
    "start_time": "2024-07-28T04:28:38.918Z"
   },
   {
    "duration": 17,
    "start_time": "2024-07-28T04:28:43.739Z"
   },
   {
    "duration": 23,
    "start_time": "2024-07-28T04:29:30.438Z"
   },
   {
    "duration": 18,
    "start_time": "2024-07-28T04:29:55.617Z"
   },
   {
    "duration": 19,
    "start_time": "2024-07-28T04:30:06.566Z"
   },
   {
    "duration": 29,
    "start_time": "2024-07-28T04:31:30.746Z"
   },
   {
    "duration": 7,
    "start_time": "2024-07-28T04:32:54.389Z"
   },
   {
    "duration": 6,
    "start_time": "2024-07-28T04:33:02.585Z"
   },
   {
    "duration": 35,
    "start_time": "2024-07-28T04:33:08.653Z"
   },
   {
    "duration": 27,
    "start_time": "2024-07-28T04:33:26.207Z"
   },
   {
    "duration": 27,
    "start_time": "2024-07-28T04:34:20.841Z"
   },
   {
    "duration": 28,
    "start_time": "2024-07-28T04:34:33.255Z"
   },
   {
    "duration": 20,
    "start_time": "2024-07-28T04:34:40.150Z"
   },
   {
    "duration": 27,
    "start_time": "2024-07-28T04:34:43.946Z"
   },
   {
    "duration": 26,
    "start_time": "2024-07-28T04:35:26.827Z"
   },
   {
    "duration": 16,
    "start_time": "2024-07-28T04:35:45.973Z"
   },
   {
    "duration": 18,
    "start_time": "2024-07-28T04:35:52.158Z"
   },
   {
    "duration": 8,
    "start_time": "2024-07-28T04:36:33.322Z"
   },
   {
    "duration": 34,
    "start_time": "2024-07-28T04:38:41.083Z"
   },
   {
    "duration": 27,
    "start_time": "2024-07-28T04:38:53.813Z"
   },
   {
    "duration": 26,
    "start_time": "2024-07-28T04:39:12.207Z"
   },
   {
    "duration": 29,
    "start_time": "2024-07-28T04:39:28.945Z"
   },
   {
    "duration": 6,
    "start_time": "2024-07-28T04:39:50.857Z"
   },
   {
    "duration": 11,
    "start_time": "2024-07-28T04:40:12.565Z"
   },
   {
    "duration": 12,
    "start_time": "2024-07-28T04:40:59.706Z"
   },
   {
    "duration": 11,
    "start_time": "2024-07-28T04:41:45.901Z"
   },
   {
    "duration": 11,
    "start_time": "2024-07-28T04:41:52.562Z"
   },
   {
    "duration": 28,
    "start_time": "2024-07-28T04:42:02.166Z"
   },
   {
    "duration": 11,
    "start_time": "2024-07-28T04:42:19.662Z"
   },
   {
    "duration": 10,
    "start_time": "2024-07-28T04:42:29.346Z"
   },
   {
    "duration": 14,
    "start_time": "2024-07-28T04:42:48.108Z"
   },
   {
    "duration": 11,
    "start_time": "2024-07-28T04:44:21.498Z"
   },
   {
    "duration": 12,
    "start_time": "2024-07-28T04:45:12.131Z"
   },
   {
    "duration": 13,
    "start_time": "2024-07-28T04:45:26.672Z"
   },
   {
    "duration": 11,
    "start_time": "2024-07-28T04:47:21.861Z"
   },
   {
    "duration": 11,
    "start_time": "2024-07-28T04:49:19.977Z"
   },
   {
    "duration": 437,
    "start_time": "2024-07-28T06:20:18.062Z"
   },
   {
    "duration": 203,
    "start_time": "2024-07-28T06:20:18.502Z"
   },
   {
    "duration": 32,
    "start_time": "2024-07-28T06:20:18.709Z"
   },
   {
    "duration": 31,
    "start_time": "2024-07-28T06:20:18.745Z"
   },
   {
    "duration": 6,
    "start_time": "2024-07-28T06:20:18.779Z"
   },
   {
    "duration": 44,
    "start_time": "2024-07-28T06:20:18.789Z"
   },
   {
    "duration": 5,
    "start_time": "2024-07-28T06:20:18.836Z"
   },
   {
    "duration": 29,
    "start_time": "2024-07-28T06:20:18.845Z"
   },
   {
    "duration": 68,
    "start_time": "2024-07-28T06:20:18.876Z"
   },
   {
    "duration": 27,
    "start_time": "2024-07-28T06:20:18.950Z"
   },
   {
    "duration": 92,
    "start_time": "2024-07-28T06:20:18.980Z"
   },
   {
    "duration": 94,
    "start_time": "2024-07-28T06:20:19.076Z"
   },
   {
    "duration": 96,
    "start_time": "2024-07-28T06:20:19.174Z"
   },
   {
    "duration": 82,
    "start_time": "2024-07-28T06:20:19.272Z"
   },
   {
    "duration": 54,
    "start_time": "2024-07-28T06:20:19.357Z"
   },
   {
    "duration": 17,
    "start_time": "2024-07-28T06:20:19.414Z"
   },
   {
    "duration": 25,
    "start_time": "2024-07-28T06:20:19.434Z"
   },
   {
    "duration": 77,
    "start_time": "2024-07-28T06:20:19.462Z"
   },
   {
    "duration": 30,
    "start_time": "2024-07-28T06:20:19.542Z"
   },
   {
    "duration": 24,
    "start_time": "2024-07-28T06:20:19.575Z"
   },
   {
    "duration": 44,
    "start_time": "2024-07-28T06:20:19.602Z"
   },
   {
    "duration": 18,
    "start_time": "2024-07-28T06:20:19.649Z"
   },
   {
    "duration": 62,
    "start_time": "2024-07-28T06:20:19.670Z"
   },
   {
    "duration": 13,
    "start_time": "2024-07-28T06:20:19.735Z"
   },
   {
    "duration": 13,
    "start_time": "2024-07-28T11:12:19.147Z"
   },
   {
    "duration": 300,
    "start_time": "2024-07-28T11:17:27.279Z"
   },
   {
    "duration": 494,
    "start_time": "2024-07-28T11:17:35.398Z"
   },
   {
    "duration": 241,
    "start_time": "2024-07-28T11:17:35.897Z"
   },
   {
    "duration": 24,
    "start_time": "2024-07-28T11:17:36.142Z"
   },
   {
    "duration": 49,
    "start_time": "2024-07-28T11:17:36.171Z"
   },
   {
    "duration": 6,
    "start_time": "2024-07-28T11:17:36.223Z"
   },
   {
    "duration": 10,
    "start_time": "2024-07-28T11:17:36.232Z"
   },
   {
    "duration": 45,
    "start_time": "2024-07-28T11:17:36.245Z"
   },
   {
    "duration": 29,
    "start_time": "2024-07-28T11:17:36.293Z"
   },
   {
    "duration": 36,
    "start_time": "2024-07-28T11:17:36.325Z"
   },
   {
    "duration": 32,
    "start_time": "2024-07-28T11:17:36.390Z"
   },
   {
    "duration": 93,
    "start_time": "2024-07-28T11:17:36.425Z"
   },
   {
    "duration": 95,
    "start_time": "2024-07-28T11:17:36.521Z"
   },
   {
    "duration": 103,
    "start_time": "2024-07-28T11:17:36.619Z"
   },
   {
    "duration": 79,
    "start_time": "2024-07-28T11:17:36.725Z"
   },
   {
    "duration": 54,
    "start_time": "2024-07-28T11:17:36.807Z"
   },
   {
    "duration": 28,
    "start_time": "2024-07-28T11:17:36.864Z"
   },
   {
    "duration": 23,
    "start_time": "2024-07-28T11:17:36.896Z"
   },
   {
    "duration": 73,
    "start_time": "2024-07-28T11:17:36.922Z"
   },
   {
    "duration": 32,
    "start_time": "2024-07-28T11:17:36.997Z"
   },
   {
    "duration": 25,
    "start_time": "2024-07-28T11:17:37.032Z"
   },
   {
    "duration": 18,
    "start_time": "2024-07-28T11:17:37.090Z"
   },
   {
    "duration": 16,
    "start_time": "2024-07-28T11:17:37.111Z"
   },
   {
    "duration": 25,
    "start_time": "2024-07-28T11:17:37.130Z"
   },
   {
    "duration": 11,
    "start_time": "2024-07-28T11:17:37.192Z"
   },
   {
    "duration": 33,
    "start_time": "2024-07-28T11:24:59.553Z"
   },
   {
    "duration": 207,
    "start_time": "2024-07-28T11:27:19.353Z"
   },
   {
    "duration": 34,
    "start_time": "2024-07-28T11:27:24.998Z"
   },
   {
    "duration": 6,
    "start_time": "2024-07-28T11:30:17.731Z"
   },
   {
    "duration": 13,
    "start_time": "2024-07-28T11:30:23.449Z"
   },
   {
    "duration": 13,
    "start_time": "2024-07-28T11:30:43.145Z"
   },
   {
    "duration": 21,
    "start_time": "2024-07-28T11:37:23.670Z"
   },
   {
    "duration": 533,
    "start_time": "2024-07-28T17:08:14.446Z"
   },
   {
    "duration": 228,
    "start_time": "2024-07-28T17:08:14.983Z"
   },
   {
    "duration": 26,
    "start_time": "2024-07-28T17:08:15.213Z"
   },
   {
    "duration": 37,
    "start_time": "2024-07-28T17:08:15.241Z"
   },
   {
    "duration": 6,
    "start_time": "2024-07-28T17:08:15.283Z"
   },
   {
    "duration": 12,
    "start_time": "2024-07-28T17:08:15.327Z"
   },
   {
    "duration": 7,
    "start_time": "2024-07-28T17:08:15.342Z"
   },
   {
    "duration": 31,
    "start_time": "2024-07-28T17:08:15.352Z"
   },
   {
    "duration": 67,
    "start_time": "2024-07-28T17:08:15.389Z"
   },
   {
    "duration": 29,
    "start_time": "2024-07-28T17:08:15.459Z"
   },
   {
    "duration": 102,
    "start_time": "2024-07-28T17:08:15.491Z"
   },
   {
    "duration": 96,
    "start_time": "2024-07-28T17:08:15.596Z"
   },
   {
    "duration": 97,
    "start_time": "2024-07-28T17:08:15.695Z"
   },
   {
    "duration": 77,
    "start_time": "2024-07-28T17:08:15.798Z"
   },
   {
    "duration": 61,
    "start_time": "2024-07-28T17:08:15.878Z"
   },
   {
    "duration": 5,
    "start_time": "2024-07-28T17:08:15.942Z"
   },
   {
    "duration": 23,
    "start_time": "2024-07-28T17:08:15.949Z"
   },
   {
    "duration": 85,
    "start_time": "2024-07-28T17:08:15.975Z"
   },
   {
    "duration": 31,
    "start_time": "2024-07-28T17:08:16.063Z"
   },
   {
    "duration": 46,
    "start_time": "2024-07-28T17:08:16.096Z"
   },
   {
    "duration": 18,
    "start_time": "2024-07-28T17:08:16.144Z"
   },
   {
    "duration": 68,
    "start_time": "2024-07-28T17:08:16.165Z"
   },
   {
    "duration": 24,
    "start_time": "2024-07-28T17:08:16.236Z"
   },
   {
    "duration": 13,
    "start_time": "2024-07-28T17:08:16.263Z"
   },
   {
    "duration": 54,
    "start_time": "2024-07-28T17:08:16.280Z"
   },
   {
    "duration": 17,
    "start_time": "2024-07-28T17:13:02.064Z"
   },
   {
    "duration": 12,
    "start_time": "2024-07-28T17:14:20.617Z"
   },
   {
    "duration": 12,
    "start_time": "2024-07-28T17:14:25.113Z"
   },
   {
    "duration": 11,
    "start_time": "2024-07-28T17:14:27.500Z"
   },
   {
    "duration": 16,
    "start_time": "2024-07-28T17:14:49.861Z"
   },
   {
    "duration": 136,
    "start_time": "2024-07-28T17:15:30.152Z"
   },
   {
    "duration": 11,
    "start_time": "2024-07-28T17:15:32.857Z"
   }
  ],
  "kernelspec": {
   "display_name": "Python 3 (ipykernel)",
   "language": "python",
   "name": "python3"
  },
  "language_info": {
   "codemirror_mode": {
    "name": "ipython",
    "version": 3
   },
   "file_extension": ".py",
   "mimetype": "text/x-python",
   "name": "python",
   "nbconvert_exporter": "python",
   "pygments_lexer": "ipython3",
   "version": "3.9.19"
  },
  "toc": {
   "base_numbering": 1,
   "nav_menu": {},
   "number_sections": true,
   "sideBar": true,
   "skip_h1_title": true,
   "title_cell": "Table of Contents",
   "title_sidebar": "Contents",
   "toc_cell": false,
   "toc_position": {},
   "toc_section_display": true,
   "toc_window_display": false
  }
 },
 "nbformat": 4,
 "nbformat_minor": 5
}
